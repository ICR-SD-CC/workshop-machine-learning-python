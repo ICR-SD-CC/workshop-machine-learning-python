{
 "cells": [
  {
   "cell_type": "markdown",
   "id": "cc6021d3-63df-4d2f-a5cf-112ab1e92f11",
   "metadata": {},
   "source": [
    "### Import data"
   ]
  },
  {
   "cell_type": "code",
   "execution_count": null,
   "id": "0e99d496-a317-493e-851c-fe26217b2d23",
   "metadata": {},
   "outputs": [],
   "source": []
  },
  {
   "cell_type": "markdown",
   "id": "80126000-7655-4153-8877-285956f4bfad",
   "metadata": {},
   "source": [
    "### Find duplicate rows"
   ]
  },
  {
   "cell_type": "code",
   "execution_count": null,
   "id": "49f4b28a-f65f-4874-a5c3-9e711b8f8c09",
   "metadata": {},
   "outputs": [],
   "source": []
  },
  {
   "cell_type": "markdown",
   "id": "e89244e3-42ea-411c-9ebd-d455c3b1a5c7",
   "metadata": {},
   "source": [
    "### Find rows that are duplicates based on specific columns"
   ]
  },
  {
   "cell_type": "code",
   "execution_count": null,
   "id": "c956b08c-9d0d-4641-a0c1-6188c01e7776",
   "metadata": {},
   "outputs": [],
   "source": []
  },
  {
   "cell_type": "markdown",
   "id": "287961d1-5208-45ef-b5ae-49939fac051b",
   "metadata": {},
   "source": [
    "### One-Hot Encoding"
   ]
  },
  {
   "cell_type": "code",
   "execution_count": null,
   "id": "b7bfbaa4-4bae-476d-8a92-28a14e91cf40",
   "metadata": {},
   "outputs": [],
   "source": []
  },
  {
   "cell_type": "markdown",
   "id": "acbc5028-79d0-42be-a113-5b9d4311e79f",
   "metadata": {},
   "source": [
    "### Target Encoding"
   ]
  },
  {
   "cell_type": "code",
   "execution_count": null,
   "id": "5c6434e7-9598-4ed2-ae02-c72ef5d3ae54",
   "metadata": {},
   "outputs": [],
   "source": []
  },
  {
   "cell_type": "markdown",
   "id": "ec8a22f5-66ca-49fc-9e5e-715f0ce45523",
   "metadata": {},
   "source": [
    "### Frequency Encoding"
   ]
  },
  {
   "cell_type": "code",
   "execution_count": null,
   "id": "a0fb11b8-c684-49cc-a712-09f252147c6f",
   "metadata": {},
   "outputs": [],
   "source": []
  },
  {
   "cell_type": "markdown",
   "id": "2754decf-750e-4e4a-9253-69490579fe22",
   "metadata": {},
   "source": [
    "### Compute correlation matrix"
   ]
  },
  {
   "cell_type": "code",
   "execution_count": null,
   "id": "d9f31d91-3750-4748-be53-66142116559f",
   "metadata": {},
   "outputs": [],
   "source": []
  },
  {
   "cell_type": "markdown",
   "id": "2832d8b5-80e4-46e4-ac23-47cdf1f54514",
   "metadata": {},
   "source": [
    "### Chi-Square Test"
   ]
  },
  {
   "cell_type": "code",
   "execution_count": null,
   "id": "441a20a1-787d-4714-a48a-f88c259a4706",
   "metadata": {},
   "outputs": [],
   "source": []
  },
  {
   "cell_type": "markdown",
   "id": "638461ba-e1fd-4954-9c19-609ff752ad30",
   "metadata": {},
   "source": [
    "### ANOVA"
   ]
  },
  {
   "cell_type": "code",
   "execution_count": null,
   "id": "18630ba2-2fc3-4c43-8068-fdfe4361b3b1",
   "metadata": {},
   "outputs": [],
   "source": []
  },
  {
   "cell_type": "code",
   "execution_count": null,
   "id": "caf6b9c0-929d-4a8d-b442-06a613cbc0a7",
   "metadata": {},
   "outputs": [],
   "source": []
  },
  {
   "cell_type": "markdown",
   "id": "8f428398-3499-4d5e-b2f6-a5cd1d126564",
   "metadata": {},
   "source": [
    "### Recursive Feature Elimination (RFE)"
   ]
  },
  {
   "cell_type": "code",
   "execution_count": null,
   "id": "c0c54403-e8b1-4d41-bb86-b6fe00874e24",
   "metadata": {},
   "outputs": [],
   "source": []
  },
  {
   "cell_type": "markdown",
   "id": "2072d676-9aea-4bc5-9851-2dbac0caae57",
   "metadata": {},
   "source": [
    "### Sequential Feature Selection"
   ]
  },
  {
   "cell_type": "code",
   "execution_count": null,
   "id": "6bd5bebb-516d-40b7-b463-7726a627d794",
   "metadata": {},
   "outputs": [],
   "source": []
  },
  {
   "cell_type": "markdown",
   "id": "febfa6aa-94ee-4f81-9a69-d6009f8b400f",
   "metadata": {},
   "source": [
    "### Lasso Feature Selection"
   ]
  },
  {
   "cell_type": "code",
   "execution_count": null,
   "id": "0661df77-3c7a-423c-8b1b-f0ba63f7056e",
   "metadata": {},
   "outputs": [],
   "source": []
  },
  {
   "cell_type": "markdown",
   "id": "fd619ad5-6e7f-4b6b-93a9-5120e0a4d1a9",
   "metadata": {},
   "source": [
    "### Tree-Based Methods"
   ]
  },
  {
   "cell_type": "code",
   "execution_count": null,
   "id": "f595f6ea-345a-4b16-a7e4-b8336eeb10a2",
   "metadata": {},
   "outputs": [],
   "source": []
  },
  {
   "cell_type": "code",
   "execution_count": null,
   "id": "7952b8b6-cf85-4b3f-b45d-56181eff62ca",
   "metadata": {},
   "outputs": [],
   "source": []
  }
 ],
 "metadata": {
  "kernelspec": {
   "display_name": "Python 3 (ipykernel)",
   "language": "python",
   "name": "python3"
  },
  "language_info": {
   "codemirror_mode": {
    "name": "ipython",
    "version": 3
   },
   "file_extension": ".py",
   "mimetype": "text/x-python",
   "name": "python",
   "nbconvert_exporter": "python",
   "pygments_lexer": "ipython3",
   "version": "3.12.4"
  }
 },
 "nbformat": 4,
 "nbformat_minor": 5
}
