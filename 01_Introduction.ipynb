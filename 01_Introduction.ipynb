{
 "cells": [
  {
   "cell_type": "markdown",
   "id": "94a73f5a-2085-40de-a892-adbf16d43627",
   "metadata": {},
   "source": [
    "# Introduction to Machine Learning in Python \n",
    "\n",
    "This lesson provides an introduction to some of the common methods and terminologies used in machine learning research. We will cover areas such as data preparation and resampling, model building, and model evaluation. \n",
    "\n",
    "It is a prerequisite for the other lessons in the machine learning curriculum. In later lessons we explore tree-based models for prediction, neural networks for image classification, and responsible machine learning. "
   ]
  },
  {
   "cell_type": "markdown",
   "id": "ea973973-21ef-4bfa-adbb-58f0a6d18447",
   "metadata": {},
   "source": [
    "## Goal - Predicting the outcome of critical care patients \n",
    "\n",
    "Critical care units are home to sophisticated monitoring systems, helping carers to support the lives of the sickest patients within a hospital. These monitoring systems produce large volumes of data that could be used to improve patient care.\n",
    "\n",
    "Our goal is to predict the outcome of critical patients using physiological data available on the first day of admission to the intensive care unit. These predictions could be used for resource planning or to assist with family discussions. \n",
    "\n",
    "The dataset used in this lesson was extracted from the [eICU Collaborative Research Database](https://www.nature.com/articles/sdata2018178), a publicly available dataset comprising de-identified physiological data collected from critically ill patients. "
   ]
  },
  {
   "cell_type": "markdown",
   "id": "669b9b59-b0f0-4780-8ddf-89d9ff983b4e",
   "metadata": {},
   "source": [
    "# Part 1 - Introduction"
   ]
  },
  {
   "cell_type": "markdown",
   "id": "79f30d67-7df4-46cd-a7c4-5cfb87fd5aad",
   "metadata": {},
   "source": [
    "## Objectives\n",
    "\n",
    "* What is machine learning?\n",
    "* What is the relationship between machine learning, AI, and statistics?\n",
    "* Understand the difference between supervised and unsupervised learning."
   ]
  },
  {
   "cell_type": "markdown",
   "id": "05790364-1434-4c01-9f01-798a0e584660",
   "metadata": {},
   "source": [
    "## Rule-based programming \n",
    "\n",
    "We are all familiar with the idea of applying rules to data to gain insights and make decisions. For example, we learn that human body temperature is ~37 °C, and that higher or lower temperatures can be cause for concern. \n",
    "\n",
    "As programmers we understand how to codify these rules. If we were developing software for a hospital to flag patients at risk of deterioration, we might create early-warning rules such as those below:"
   ]
  },
  {
   "cell_type": "code",
   "execution_count": 1,
   "id": "0c5404b1-4232-4014-a175-af8998f0c7cd",
   "metadata": {},
   "outputs": [],
   "source": [
    "def has_fever(temp_c):\n",
    "    if temp_c > 38:\n",
    "        return True\n",
    "    else:\n",
    "        return False"
   ]
  },
  {
   "cell_type": "markdown",
   "id": "4f24ddf3-2198-4b34-a1d4-8c132f161b25",
   "metadata": {},
   "source": [
    "## What is machine learning?\n",
    "\n",
    "__Machine Learning (ML)__ is a field of study in artificial intelligence concerned with the development and study of statistical algorithms that can learn from data and generalise to unseen data and thus perform tasks without explicit instructions. Recently, artifical neural networks have been able to surpass many previous approaches in performance. \n",
    "\n",
    "__ML__ finds application in many fields, including natural language processing, computer vision, speech recognition, email filtering, agriculture, and medicine. When applied to business problems, it is known under the name predictive analytics. Although not all machine learning is statistically based, computational statistics is an important source of the field's methods. "
   ]
  },
  {
   "cell_type": "markdown",
   "id": "fbb48fa6-787b-481e-b4c4-8041047b473b",
   "metadata": {},
   "source": [
    "## Relationships to statistics\n",
    "\n",
    "Machine learning and statistics are closely related fields in terms of methods, but distinct in their principal goal: statistics draws population inferences from a sample, while machine learning finds generalisable predictive patterns. \n",
    "\n",
    "Conventional statistical analyses require the a priori selection of a model most suitable for the study data set. In addition, only significant or theoretically relevant variables based on previous experience are included for analysis. In contrast, machine learning is not built on a pre-structured model; rather, the data shape the model by detecting underlying patterns. The more variables (input) used to train the model, the more accurate the ultimate model will be. "
   ]
  },
  {
   "cell_type": "markdown",
   "id": "31d7b686-3884-4045-872d-f0df6c7afb2f",
   "metadata": {},
   "source": [
    "## Relationships to AI and deep learning\n",
    "\n",
    "![](https://upload.wikimedia.org/wikipedia/commons/thumb/1/1b/AI_hierarchy.svg/399px-AI_hierarchy.svg.png)"
   ]
  },
  {
   "cell_type": "markdown",
   "id": "080ed8c7-07c5-4100-bdeb-6176011b44a5",
   "metadata": {},
   "source": [
    "## Machine learning approaches\n",
    "\n",
    "Machine learning approaches are traditionally divided into three broad categories, which correspond to learning paradigms, depending on the nature of the \"signal\" or \"feedback\" available to the learning system:\n",
    "\n",
    "* __Supervised learning:__ The computer is presented with example inputs and their desired outputs, given by a \"teacher\", and the goal is to learn a general rule that maps inputs to outputs.\n",
    "* __Unsupervided learning:__ No labels are given to the learning algorithm, leaving it on its own find structure in its input. Unsupervised learning can be a goal in itself (discovering hidden patterns in data) or a means towards an end (feature learning).\n",
    "* __Reinforcement learning:__ A computer program interacts with a dynamic environment in which it must perform a certain goal (such as driving vehicle or playing a game against an opponent). As it navigates its problem space, the program is provided feedback that's analogous to rewards, which it tries to maximise.\n",
    "\n",
    "Although each algorithm has advantages and limitations, no single algorithm works for all problems. "
   ]
  },
  {
   "cell_type": "markdown",
   "id": "ed0df300-d636-43e4-9d8f-bf8fda9e390e",
   "metadata": {},
   "source": [
    "## Machine learning models\n",
    "\n",
    "A __machine learning model__ is a type of mathematical model that, after being \"trained\" on a given dataset, can be used to make predictions or classifications on new data. During training, a learning algorithm iteratively adjusts the model's internal parameters to minimise errors in its predictions. By extension, the term \"model\" can refer to several levels of specificity, from a general class of models and their associated learning algorithms to a fully trained model with all its internal parameters tuned. \n",
    "\n",
    "Various types of models have been used and researched for machine learning systems, picking the best model for a task is called model selection.\n",
    "\n",
    "* __Artificial neural networks (ANNs):__ are computing systems vaguely inspired by the biological neural networks that constitute animal brains. Such systems \"learn\" to perform tasks by considering examples, generally without being programmed with any task-specific rules.\n",
    "\n",
    "![](https://upload.wikimedia.org/wikipedia/commons/thumb/4/46/Colored_neural_network.svg/300px-Colored_neural_network.svg.png)\n",
    "\n",
    "* __Decision trees:__ decision tree learning uses a decision tree as a predictive model to go from observations about an item (represented in the branches) to conclusions about the item's target value (represented in the leaves). It is one of the predictive modeling approaches used in statistics, data mining, and machine learning.\n",
    "\n",
    "![](https://i0.wp.com/why-change.com/wp-content/uploads/2021/11/Decision-Tree-elements-2.png?resize=715%2C450&ssl=1)\n",
    "\n",
    "* __Support-vector machines (SVMs):__ also known as support-vector networks, are a set of related supervised learning methods used for classification and regression. Given a set of training examples, each marked as belonging to one of two categories, an SVM training algorithm builds a model that predicts whether a new example falls into one category.\n",
    "\n",
    "![](https://i.ytimg.com/vi/ny1iZ5A8ilA/maxresdefault.jpg)\n",
    "\n",
    "* __Regression analysis:__ encompasses a large variety of statistical methods to estimate the relationship between input variables and their associated features. Its most common form is linear repression, where a single line is drawn to best fit the given data according to a mathematical criterion such as ordinary least squares. The latter is often extended by regularisation methods to mitigate overfitting and bias, as in ridge regression. When dealing with non-linear problems, go-to models include polynomial regression (for example, used for trendline fitting in Microsoft Excel), logistic regression (often used in statistical classification) or even kernel regression, which introduces non-linearity by taking advantage of the kernel trick to implicitly map input variables to higher-dimensional space.\n",
    "\n",
    "![](https://www.questionpro.com/blog/wp-content/uploads/2019/03/Regression-Analysis_1.jpg)\n",
    "\n",
    "* __Bayesian networks:__ a Bayesian network is a probabilistic graphical model that represents a set of random variables and their conditional independence with a directed acyclic graph (DAG). For example, a Bayesian network could represent the probabilistic relationships between diseases and symptoms. Given symptoms, the network can be used to compute the probabilities of the presence of various diseases. \n",
    "\n",
    "![](https://miro.medium.com/v2/resize:fit:1204/1*9OsQV0PqM2juaOtGqoRISw.jpeg) \n",
    "\n",
    "* __Gaussian processes:__ a Gaussian process is a stochastic process in which every finite collection of the random variables in the process has a multivariate normal distribution, and it relies on a pre-defined covariance function, or kernel, that models how pairs of points relate to each other depending on their locations. Gaussian processes are popular surrogate models in Bayesian optimisation used to do hyperparameter optimisation.\n",
    "\n",
    "![](https://www.researchgate.net/profile/Florent-Leclercq/publication/327613136/figure/fig1/AS:749406701776896@1555683889137/Illustration-of-Gaussian-process-regression-in-one-dimension-for-the-target-test.png)\n",
    "\n",
    "* __Genetic algorithms:__ a genetic algorithm (GA) is a search algorithm and heuristic technique that mimics the process of natural selection, using methods such as mutation and crossover to generate new genotypes in the hope of finding good solutions to a given problem. In machine learning, genetic algorithms were used in the 1980s and 1990s.\n",
    "\n",
    "![](https://miro.medium.com/v2/resize:fit:1400/1*BYDJpa6M2rzWNSurvspf8Q.png)"
   ]
  },
  {
   "cell_type": "markdown",
   "id": "dd3dcc64-475e-4b3f-890b-13f8ed2ac276",
   "metadata": {},
   "source": [
    "# Part 2 - Data preparation\n",
    "\n",
    "__Objectives:__\n",
    "\n",
    "* What are the common steps in data preparation?\n",
    "* Why do we partition data at the start of a project?\n",
    "* What is the purpose of setting a random state when partitioning?\n",
    "* Should we impute missing values before or after partitioning?\n",
    "* Explore characteristics of our dataset.\n",
    "* Partition data into training and test sets.\n",
    "* Encode categorical values.\n",
    "* Use scaling to pre-process features."
   ]
  },
  {
   "cell_type": "markdown",
   "id": "a67e48d4-ea0b-437c-87e8-c1e0ecc8cfdf",
   "metadata": {},
   "source": [
    "## Sourcing and accessing data\n",
    "\n",
    "Machine learning helps us to find patterns in data, so sourcing and understanding data is key. Unsuitable or poorly managed data will lead to a poor project outcome, regardless of the modelling approach. \n",
    "\n",
    "We will use an open access subset of the [eICU Collaborative Research Database](https://eicu-crd.mit.edu/about/eicu/), a publicly available dataset comprising deidentified physiological data collected from critically ill patients. For simplicity, we will be working with a pre-prepared CSV file that comprises data extracted from a [demo version of the dataset](https://physionet.org/content/eicu-crd-demo/2.0.1/).\n",
    "\n",
    "Let's begin by loading this data:"
   ]
  },
  {
   "cell_type": "code",
   "execution_count": 17,
   "id": "e19483f7-d3b2-41f6-9e9f-4992be935654",
   "metadata": {},
   "outputs": [
    {
     "data": {
      "text/html": [
       "<div>\n",
       "<style scoped>\n",
       "    .dataframe tbody tr th:only-of-type {\n",
       "        vertical-align: middle;\n",
       "    }\n",
       "\n",
       "    .dataframe tbody tr th {\n",
       "        vertical-align: top;\n",
       "    }\n",
       "\n",
       "    .dataframe thead th {\n",
       "        text-align: right;\n",
       "    }\n",
       "</style>\n",
       "<table border=\"1\" class=\"dataframe\">\n",
       "  <thead>\n",
       "    <tr style=\"text-align: right;\">\n",
       "      <th></th>\n",
       "      <th>gender</th>\n",
       "      <th>age</th>\n",
       "      <th>admissionweight</th>\n",
       "      <th>unabridgedhosplos</th>\n",
       "      <th>acutephysiologyscore</th>\n",
       "      <th>apachescore</th>\n",
       "      <th>actualhospitalmortality</th>\n",
       "      <th>heartrate</th>\n",
       "      <th>meanbp</th>\n",
       "      <th>creatinine</th>\n",
       "      <th>temperature</th>\n",
       "      <th>respiratoryrate</th>\n",
       "      <th>wbc</th>\n",
       "      <th>admissionheight</th>\n",
       "    </tr>\n",
       "  </thead>\n",
       "  <tbody>\n",
       "    <tr>\n",
       "      <th>0</th>\n",
       "      <td>Male</td>\n",
       "      <td>45.0</td>\n",
       "      <td>116.0</td>\n",
       "      <td>3.0778</td>\n",
       "      <td>41</td>\n",
       "      <td>46</td>\n",
       "      <td>ALIVE</td>\n",
       "      <td>109.0</td>\n",
       "      <td>154.0</td>\n",
       "      <td>1.01</td>\n",
       "      <td>36.20</td>\n",
       "      <td>41.0</td>\n",
       "      <td>10.0</td>\n",
       "      <td>178.0</td>\n",
       "    </tr>\n",
       "    <tr>\n",
       "      <th>1</th>\n",
       "      <td>Male</td>\n",
       "      <td>57.0</td>\n",
       "      <td>NaN</td>\n",
       "      <td>7.6736</td>\n",
       "      <td>26</td>\n",
       "      <td>31</td>\n",
       "      <td>ALIVE</td>\n",
       "      <td>106.0</td>\n",
       "      <td>46.0</td>\n",
       "      <td>-1.00</td>\n",
       "      <td>36.30</td>\n",
       "      <td>6.0</td>\n",
       "      <td>10.1</td>\n",
       "      <td>172.7</td>\n",
       "    </tr>\n",
       "    <tr>\n",
       "      <th>2</th>\n",
       "      <td>Female</td>\n",
       "      <td>59.0</td>\n",
       "      <td>66.6</td>\n",
       "      <td>15.0778</td>\n",
       "      <td>56</td>\n",
       "      <td>61</td>\n",
       "      <td>ALIVE</td>\n",
       "      <td>134.0</td>\n",
       "      <td>172.0</td>\n",
       "      <td>1.03</td>\n",
       "      <td>34.80</td>\n",
       "      <td>32.0</td>\n",
       "      <td>25.5</td>\n",
       "      <td>170.2</td>\n",
       "    </tr>\n",
       "    <tr>\n",
       "      <th>3</th>\n",
       "      <td>Male</td>\n",
       "      <td>63.0</td>\n",
       "      <td>71.9</td>\n",
       "      <td>1.3201</td>\n",
       "      <td>77</td>\n",
       "      <td>88</td>\n",
       "      <td>EXPIRED</td>\n",
       "      <td>133.0</td>\n",
       "      <td>40.0</td>\n",
       "      <td>4.30</td>\n",
       "      <td>32.60</td>\n",
       "      <td>39.0</td>\n",
       "      <td>12.6</td>\n",
       "      <td>167.6</td>\n",
       "    </tr>\n",
       "    <tr>\n",
       "      <th>4</th>\n",
       "      <td>Male</td>\n",
       "      <td>67.0</td>\n",
       "      <td>104.8</td>\n",
       "      <td>1.5257</td>\n",
       "      <td>75</td>\n",
       "      <td>88</td>\n",
       "      <td>EXPIRED</td>\n",
       "      <td>31.0</td>\n",
       "      <td>133.0</td>\n",
       "      <td>0.70</td>\n",
       "      <td>36.44</td>\n",
       "      <td>31.0</td>\n",
       "      <td>11.3</td>\n",
       "      <td>182.9</td>\n",
       "    </tr>\n",
       "  </tbody>\n",
       "</table>\n",
       "</div>"
      ],
      "text/plain": [
       "   gender   age  admissionweight  unabridgedhosplos  acutephysiologyscore  \\\n",
       "0    Male  45.0            116.0             3.0778                    41   \n",
       "1    Male  57.0              NaN             7.6736                    26   \n",
       "2  Female  59.0             66.6            15.0778                    56   \n",
       "3    Male  63.0             71.9             1.3201                    77   \n",
       "4    Male  67.0            104.8             1.5257                    75   \n",
       "\n",
       "   apachescore actualhospitalmortality  heartrate  meanbp  creatinine  \\\n",
       "0           46                   ALIVE      109.0   154.0        1.01   \n",
       "1           31                   ALIVE      106.0    46.0       -1.00   \n",
       "2           61                   ALIVE      134.0   172.0        1.03   \n",
       "3           88                 EXPIRED      133.0    40.0        4.30   \n",
       "4           88                 EXPIRED       31.0   133.0        0.70   \n",
       "\n",
       "   temperature  respiratoryrate   wbc  admissionheight  \n",
       "0        36.20             41.0  10.0            178.0  \n",
       "1        36.30              6.0  10.1            172.7  \n",
       "2        34.80             32.0  25.5            170.2  \n",
       "3        32.60             39.0  12.6            167.6  \n",
       "4        36.44             31.0  11.3            182.9  "
      ]
     },
     "execution_count": 17,
     "metadata": {},
     "output_type": "execute_result"
    }
   ],
   "source": [
    "import pandas as pd\n",
    "\n",
    "# load the data\n",
    "cohort = pd.read_csv('./eicu_cohort.csv')\n",
    "cohort.head()"
   ]
  },
  {
   "cell_type": "markdown",
   "id": "2f85d326-29ab-4284-910a-5068c80f0655",
   "metadata": {},
   "source": [
    "## Knowing the data \n",
    "\n",
    "Before moving ahead on a project, it is important to understand the data. Having someone with domain knowledge - and ideally first hand knowledge of the data collection process - helps us to design a sensible task and to use data effectively. \n",
    "\n",
    "Summarising data is an important first step. We will want to know aspects of the data such as: extent of missingness; data types; numbers of observations. One common step is to view summary characteristics (for example, see [Table 1](https://www.nature.com/articles/s41746-018-0029-1/tables/1) of the paper by Rajkomar et al.).\n",
    "\n",
    "Let's generate a similar table for ourselves:"
   ]
  },
  {
   "cell_type": "code",
   "execution_count": 5,
   "id": "5ee9ada2-be50-4a57-bae6-e2e9f0f39891",
   "metadata": {},
   "outputs": [],
   "source": [
    "#!pip install tableone"
   ]
  },
  {
   "cell_type": "code",
   "execution_count": 18,
   "id": "40335cca-4dfc-49c8-9e37-b4ff4f12d8a2",
   "metadata": {},
   "outputs": [
    {
     "data": {
      "text/html": [
       "<div>\n",
       "<style scoped>\n",
       "    .dataframe tbody tr th:only-of-type {\n",
       "        vertical-align: middle;\n",
       "    }\n",
       "\n",
       "    .dataframe tbody tr th {\n",
       "        vertical-align: top;\n",
       "    }\n",
       "\n",
       "    .dataframe thead tr th {\n",
       "        text-align: left;\n",
       "    }\n",
       "</style>\n",
       "<table border=\"1\" class=\"dataframe\">\n",
       "  <thead>\n",
       "    <tr>\n",
       "      <th></th>\n",
       "      <th></th>\n",
       "      <th colspan=\"4\" halign=\"left\">Grouped by actualhospitalmortality</th>\n",
       "    </tr>\n",
       "    <tr>\n",
       "      <th></th>\n",
       "      <th></th>\n",
       "      <th>Missing</th>\n",
       "      <th>Overall</th>\n",
       "      <th>ALIVE</th>\n",
       "      <th>EXPIRED</th>\n",
       "    </tr>\n",
       "  </thead>\n",
       "  <tbody>\n",
       "    <tr>\n",
       "      <th>n</th>\n",
       "      <th></th>\n",
       "      <td></td>\n",
       "      <td>235</td>\n",
       "      <td>195</td>\n",
       "      <td>40</td>\n",
       "    </tr>\n",
       "    <tr>\n",
       "      <th rowspan=\"3\" valign=\"top\">gender, n (%)</th>\n",
       "      <th>Female</th>\n",
       "      <td></td>\n",
       "      <td>116 (49.4)</td>\n",
       "      <td>101 (51.8)</td>\n",
       "      <td>15 (37.5)</td>\n",
       "    </tr>\n",
       "    <tr>\n",
       "      <th>Male</th>\n",
       "      <td></td>\n",
       "      <td>118 (50.2)</td>\n",
       "      <td>94 (48.2)</td>\n",
       "      <td>24 (60.0)</td>\n",
       "    </tr>\n",
       "    <tr>\n",
       "      <th>Unknown</th>\n",
       "      <td></td>\n",
       "      <td>1 (0.4)</td>\n",
       "      <td></td>\n",
       "      <td>1 (2.5)</td>\n",
       "    </tr>\n",
       "    <tr>\n",
       "      <th>age, mean (SD)</th>\n",
       "      <th></th>\n",
       "      <td>9</td>\n",
       "      <td>61.9 (15.5)</td>\n",
       "      <td>60.5 (15.8)</td>\n",
       "      <td>69.3 (11.5)</td>\n",
       "    </tr>\n",
       "    <tr>\n",
       "      <th>admissionweight, mean (SD)</th>\n",
       "      <th></th>\n",
       "      <td>5</td>\n",
       "      <td>87.6 (28.0)</td>\n",
       "      <td>88.6 (28.8)</td>\n",
       "      <td>82.3 (23.3)</td>\n",
       "    </tr>\n",
       "    <tr>\n",
       "      <th>length of stay, mean (SD)</th>\n",
       "      <th></th>\n",
       "      <td>0</td>\n",
       "      <td>9.2 (8.6)</td>\n",
       "      <td>9.6 (7.5)</td>\n",
       "      <td>6.9 (12.5)</td>\n",
       "    </tr>\n",
       "    <tr>\n",
       "      <th>acutephysiologyscore, mean (SD)</th>\n",
       "      <th></th>\n",
       "      <td>0</td>\n",
       "      <td>59.9 (28.1)</td>\n",
       "      <td>54.5 (23.1)</td>\n",
       "      <td>86.7 (34.7)</td>\n",
       "    </tr>\n",
       "    <tr>\n",
       "      <th>apachescore, mean (SD)</th>\n",
       "      <th></th>\n",
       "      <td>0</td>\n",
       "      <td>71.2 (30.3)</td>\n",
       "      <td>64.6 (24.5)</td>\n",
       "      <td>103.5 (34.9)</td>\n",
       "    </tr>\n",
       "    <tr>\n",
       "      <th>heartrate, mean (SD)</th>\n",
       "      <th></th>\n",
       "      <td>0</td>\n",
       "      <td>108.7 (33.1)</td>\n",
       "      <td>107.9 (30.6)</td>\n",
       "      <td>112.9 (43.2)</td>\n",
       "    </tr>\n",
       "    <tr>\n",
       "      <th>mean blood pressure, mean (SD)</th>\n",
       "      <th></th>\n",
       "      <td>0</td>\n",
       "      <td>93.2 (47.0)</td>\n",
       "      <td>92.1 (45.4)</td>\n",
       "      <td>98.6 (54.5)</td>\n",
       "    </tr>\n",
       "    <tr>\n",
       "      <th>creatinine, mean (SD)</th>\n",
       "      <th></th>\n",
       "      <td>0</td>\n",
       "      <td>1.0 (1.7)</td>\n",
       "      <td>0.9 (1.7)</td>\n",
       "      <td>1.7 (1.6)</td>\n",
       "    </tr>\n",
       "    <tr>\n",
       "      <th>temperature, mean (SD)</th>\n",
       "      <th></th>\n",
       "      <td>0</td>\n",
       "      <td>35.2 (6.5)</td>\n",
       "      <td>36.1 (3.9)</td>\n",
       "      <td>31.2 (12.4)</td>\n",
       "    </tr>\n",
       "    <tr>\n",
       "      <th>respiratoryrate, mean (SD)</th>\n",
       "      <th></th>\n",
       "      <td>0</td>\n",
       "      <td>30.7 (15.2)</td>\n",
       "      <td>29.9 (15.1)</td>\n",
       "      <td>34.3 (15.6)</td>\n",
       "    </tr>\n",
       "    <tr>\n",
       "      <th>white cell count, mean (SD)</th>\n",
       "      <th></th>\n",
       "      <td>0</td>\n",
       "      <td>10.5 (8.4)</td>\n",
       "      <td>10.7 (8.2)</td>\n",
       "      <td>9.7 (9.7)</td>\n",
       "    </tr>\n",
       "    <tr>\n",
       "      <th>admissionheight, mean (SD)</th>\n",
       "      <th></th>\n",
       "      <td>2</td>\n",
       "      <td>168.0 (12.8)</td>\n",
       "      <td>167.7 (13.4)</td>\n",
       "      <td>169.4 (9.1)</td>\n",
       "    </tr>\n",
       "  </tbody>\n",
       "</table>\n",
       "</div><br />"
      ],
      "text/plain": [
       "                                        Grouped by actualhospitalmortality                                          \n",
       "                                                                   Missing       Overall         ALIVE       EXPIRED\n",
       "n                                                                                    235           195            40\n",
       "gender, n (%)                   Female                                        116 (49.4)    101 (51.8)     15 (37.5)\n",
       "                                Male                                          118 (50.2)     94 (48.2)     24 (60.0)\n",
       "                                Unknown                                          1 (0.4)                     1 (2.5)\n",
       "age, mean (SD)                                                           9   61.9 (15.5)   60.5 (15.8)   69.3 (11.5)\n",
       "admissionweight, mean (SD)                                               5   87.6 (28.0)   88.6 (28.8)   82.3 (23.3)\n",
       "length of stay, mean (SD)                                                0     9.2 (8.6)     9.6 (7.5)    6.9 (12.5)\n",
       "acutephysiologyscore, mean (SD)                                          0   59.9 (28.1)   54.5 (23.1)   86.7 (34.7)\n",
       "apachescore, mean (SD)                                                   0   71.2 (30.3)   64.6 (24.5)  103.5 (34.9)\n",
       "heartrate, mean (SD)                                                     0  108.7 (33.1)  107.9 (30.6)  112.9 (43.2)\n",
       "mean blood pressure, mean (SD)                                           0   93.2 (47.0)   92.1 (45.4)   98.6 (54.5)\n",
       "creatinine, mean (SD)                                                    0     1.0 (1.7)     0.9 (1.7)     1.7 (1.6)\n",
       "temperature, mean (SD)                                                   0    35.2 (6.5)    36.1 (3.9)   31.2 (12.4)\n",
       "respiratoryrate, mean (SD)                                               0   30.7 (15.2)   29.9 (15.1)   34.3 (15.6)\n",
       "white cell count, mean (SD)                                              0    10.5 (8.4)    10.7 (8.2)     9.7 (9.7)\n",
       "admissionheight, mean (SD)                                               2  168.0 (12.8)  167.7 (13.4)   169.4 (9.1)"
      ]
     },
     "execution_count": 18,
     "metadata": {},
     "output_type": "execute_result"
    }
   ],
   "source": [
    "from tableone import tableone\n",
    "\n",
    "# rename columns\n",
    "rename = {\n",
    "    \"unabridgedhosplos\": \"length of stay\",\n",
    "    \"meanbp\": \"mean blood pressure\",\n",
    "    \"wbc\": \"white cell count\"\n",
    "}\n",
    "\n",
    "# view summary \n",
    "t1 = tableone(cohort, groupby=\"actualhospitalmortality\", rename=rename)\n",
    "t1"
   ]
  },
  {
   "cell_type": "markdown",
   "id": "c37049c6-ce0e-4f30-a0c0-bd3878512b3c",
   "metadata": {},
   "source": [
    "__Exercise:__\n",
    "\n",
    "* What is the approximate percent mortality in the eICU cohort?\n",
    "* Which variables appear noticeably different in the \"Alive\" and \"Expired\" groups?\n",
    "* How does the in-hospital mortality differ between the eICU cohort and the ones in [Rajkomar et al](https://www.nature.com/articles/s41746-018-0029-1/tables/1)?"
   ]
  },
  {
   "cell_type": "markdown",
   "id": "53ee8672-6c23-4272-bfba-0e11cb77e8c2",
   "metadata": {},
   "source": [
    "## Encoding\n",
    "\n",
    "It is often the case that our data includes categorical values. In our case, for example, the binary outcome we are trying to predict - in hospital mortality - is recorded as \"ALIVE\" and \"EXPIRED\". Some models can cope with taking this text as input, but many cannot. We can use label encoding to convert the categorical values to numerical representations. "
   ]
  },
  {
   "cell_type": "code",
   "execution_count": 19,
   "id": "dfdef914-2502-478b-9322-8b5607ae3456",
   "metadata": {},
   "outputs": [
    {
     "data": {
      "text/plain": [
       "gender                      object\n",
       "age                        float64\n",
       "admissionweight            float64\n",
       "unabridgedhosplos          float64\n",
       "acutephysiologyscore         int64\n",
       "apachescore                  int64\n",
       "actualhospitalmortality     object\n",
       "heartrate                  float64\n",
       "meanbp                     float64\n",
       "creatinine                 float64\n",
       "temperature                float64\n",
       "respiratoryrate            float64\n",
       "wbc                        float64\n",
       "admissionheight            float64\n",
       "dtype: object"
      ]
     },
     "execution_count": 19,
     "metadata": {},
     "output_type": "execute_result"
    }
   ],
   "source": [
    "# check current data types of each column\n",
    "cohort.dtypes"
   ]
  },
  {
   "cell_type": "markdown",
   "id": "260c41eb-1e58-4538-8198-7f7276dc6e03",
   "metadata": {},
   "source": [
    "* `object`: the default type to store text data in pandas\n",
    "* `float64`: floating point numbers\n",
    "* `int64`: integers\n",
    "\n",
    "Check the documentation for [pandas.DataFrame.dtypes](https://pandas.pydata.org/pandas-docs/stable/reference/api/pandas.DataFrame.dtypes.html)."
   ]
  },
  {
   "cell_type": "code",
   "execution_count": 20,
   "id": "6161d510-5629-4e87-bd8f-cdfd270d983d",
   "metadata": {},
   "outputs": [
    {
     "data": {
      "text/plain": [
       "gender                       object\n",
       "age                         float64\n",
       "admissionweight             float64\n",
       "unabridgedhosplos           float64\n",
       "acutephysiologyscore          int64\n",
       "apachescore                   int64\n",
       "actualhospitalmortality    category\n",
       "heartrate                   float64\n",
       "meanbp                      float64\n",
       "creatinine                  float64\n",
       "temperature                 float64\n",
       "respiratoryrate             float64\n",
       "wbc                         float64\n",
       "admissionheight             float64\n",
       "dtype: object"
      ]
     },
     "execution_count": 20,
     "metadata": {},
     "output_type": "execute_result"
    }
   ],
   "source": [
    "# convert column \"actualhospitalmortality\" to a categorical type\n",
    "categories = ['ALIVE', 'EXPIRED']\n",
    "cohort['actualhospitalmortality'] = pd.Categorical(cohort['actualhospitalmortality'], categories=categories)\n",
    "cohort.dtypes"
   ]
  },
  {
   "cell_type": "markdown",
   "id": "b3df60b7-a9a8-4860-9f1c-4d4e3fd27958",
   "metadata": {},
   "source": [
    "Check the documentation for [pandas.Categorical](https://pandas.pydata.org/docs/reference/api/pandas.Categorical.html)."
   ]
  },
  {
   "cell_type": "code",
   "execution_count": 21,
   "id": "a5eb1f9b-52f2-4b8f-b33b-bdcc8d7cbf01",
   "metadata": {},
   "outputs": [
    {
     "data": {
      "text/plain": [
       "gender                           object\n",
       "age                             float64\n",
       "admissionweight                 float64\n",
       "unabridgedhosplos               float64\n",
       "acutephysiologyscore              int64\n",
       "apachescore                       int64\n",
       "actualhospitalmortality        category\n",
       "heartrate                       float64\n",
       "meanbp                          float64\n",
       "creatinine                      float64\n",
       "temperature                     float64\n",
       "respiratoryrate                 float64\n",
       "wbc                             float64\n",
       "admissionheight                 float64\n",
       "actualhospitalmortality_enc        int8\n",
       "dtype: object"
      ]
     },
     "execution_count": 21,
     "metadata": {},
     "output_type": "execute_result"
    }
   ],
   "source": [
    "# add the encoded value to a new column\n",
    "cohort['actualhospitalmortality_enc'] = cohort['actualhospitalmortality'].cat.codes\n",
    "cohort[['actualhospitalmortality', 'actualhospitalmortality_enc']].head()\n",
    "cohort.dtypes"
   ]
  },
  {
   "cell_type": "markdown",
   "id": "fffc6f38-cda1-4a43-8598-8fe9e5708846",
   "metadata": {},
   "source": [
    "Let's encode the gender in the same way:"
   ]
  },
  {
   "cell_type": "code",
   "execution_count": 22,
   "id": "a7704842-3945-42d5-a0b8-600dbea174a7",
   "metadata": {},
   "outputs": [
    {
     "data": {
      "text/plain": [
       "gender                             int8\n",
       "age                             float64\n",
       "admissionweight                 float64\n",
       "unabridgedhosplos               float64\n",
       "acutephysiologyscore              int64\n",
       "apachescore                       int64\n",
       "actualhospitalmortality        category\n",
       "heartrate                       float64\n",
       "meanbp                          float64\n",
       "creatinine                      float64\n",
       "temperature                     float64\n",
       "respiratoryrate                 float64\n",
       "wbc                             float64\n",
       "admissionheight                 float64\n",
       "actualhospitalmortality_enc        int8\n",
       "dtype: object"
      ]
     },
     "execution_count": 22,
     "metadata": {},
     "output_type": "execute_result"
    }
   ],
   "source": [
    "cohort['gender'] = pd.Categorical(cohort['gender'])\n",
    "cohort['gender'] = cohort['gender'].cat.codes"
   ]
  },
  {
   "cell_type": "markdown",
   "id": "f41a7231-72ca-425f-a4db-860381c5485a",
   "metadata": {},
   "source": [
    "## Partitioning\n",
    "\n",
    "Typically we will want to split our data into a training set and \"held-out\" test set. The training set is used for building our model and our test set is used for evaluation. A split of ~70% training, 30% test is common. \n",
    "\n",
    "![](https://carpentries-incubator.github.io/machine-learning-novice-python/fig/train_test.png)\n",
    "\n",
    "To ensure reproducibility, we should set the random state of the splitting method. This means that Python's random number generator will produce the same \"random\" split in the future."
   ]
  },
  {
   "cell_type": "code",
   "execution_count": 14,
   "id": "373a5965-d9b1-4495-83e0-9add37c70783",
   "metadata": {},
   "outputs": [],
   "source": [
    "#!pip install scikit-learn"
   ]
  },
  {
   "cell_type": "code",
   "execution_count": 23,
   "id": "d2f82f3f-ba37-4ecd-9e80-a35de9b8f300",
   "metadata": {},
   "outputs": [],
   "source": [
    "from sklearn.model_selection import train_test_split\n",
    "\n",
    "x = cohort.drop('actualhospitalmortality', axis=1)\n",
    "y = cohort['actualhospitalmortality']\n",
    "x_train, x_test, y_train, y_test = train_test_split(x, y, train_size=0.7, random_state=42)"
   ]
  },
  {
   "cell_type": "markdown",
   "id": "af8a75d6-b2da-4380-9a92-8bb8fbf8b48e",
   "metadata": {},
   "source": [
    "## Missing data\n",
    "\n",
    "Certain types of models - for example some decision trees - are able to implicitly handle missing data. For logistic regression, we need to impute values. We will take a simple approach of replacing with the median. \n",
    "\n",
    "With physiological data, imputing the median typically implies that the missing observation is not a cause for concern.\n",
    "\n",
    "To avoid data leaking between our training and test sets, we take the median from the training set only. The training median is then used to impute missing values in the held-out test set. "
   ]
  },
  {
   "cell_type": "code",
   "execution_count": 24,
   "id": "9f670ea9-4a47-40cb-bfc2-5a5cd4efeefa",
   "metadata": {},
   "outputs": [],
   "source": [
    "# impute missing values from the training set\n",
    "x_train = x_train.fillna(x_train.median())\n",
    "x_test = x_test.fillna(x_train.median())"
   ]
  },
  {
   "cell_type": "markdown",
   "id": "ffe7f613-0ede-4208-912a-a4888edc72bc",
   "metadata": {},
   "source": [
    "It is often the case that data is not missing at random. For example, the presence of blood sugar observations may indicate suspected diabetes. To use this information, we can choose to create missing data features comprising of binary \"is missing\" flags. "
   ]
  },
  {
   "cell_type": "markdown",
   "id": "cb4c2b02-96f8-4248-9a93-23340b06b3c2",
   "metadata": {},
   "source": [
    "## Normalisation\n",
    "\n",
    "Lastly, normalisation - scaling variables so that they span consistent ranges - can be important, particularly for models that rely on distance based optimisation metrics. \n",
    "\n",
    "As with creating train and test splits, it is a common enough task that there are plenty of pre-built functions for us to choose from. We will choose the [Min-Max Scaler](https://scikit-learn.org/stable/modules/generated/sklearn.preprocessing.MinMaxScaler.html) from the sklearn package, which scales each feature between zero and one. \n",
    "\n",
    "$$\n",
    "  x_{std} = \\frac{x - x_{min}}{x_{max} - x_{min}}\n",
    "$$\n",
    "$$\n",
    "  x_{scaled} - x_{std} * (x_{max} - x_{min}) + x_{min}\n",
    "$$"
   ]
  },
  {
   "cell_type": "code",
   "execution_count": 25,
   "id": "f2cb0778-6c1f-4697-bee4-671231c2d488",
   "metadata": {},
   "outputs": [],
   "source": [
    "# define the scaler\n",
    "from sklearn.preprocessing import MinMaxScaler\n",
    "scaler = MinMaxScaler()\n",
    "\n",
    "#fit the scaler on the training dataset\n",
    "scaler.fit(x_train)\n",
    "\n",
    "# scale the training set\n",
    "x_train = scaler.transform(x_train)\n",
    "\n",
    "# scale the test set \n",
    "x_test = scaler.transform(x_test)"
   ]
  },
  {
   "cell_type": "markdown",
   "id": "91b99cc1-12fd-422c-ac21-11ce9a80c987",
   "metadata": {},
   "source": [
    "* __MinMaxScaler.fit:__ compute the minimum and maximum to be used for later scaling.\n",
    "* __MinMaxScaler.transform:__ scale features of dataset according to feature_range, where feature_range=(min, max)."
   ]
  },
  {
   "cell_type": "markdown",
   "id": "8df26b60-0139-4721-ac73-d76e9895c32e",
   "metadata": {},
   "source": [
    "Outliers in features can have a negative impact on the normalisation process - they can essentially squash non-outliers into a small space - so they may need special treatment (for example, a [RobustScaler](https://scikit-learn.org/stable/modules/generated/sklearn.preprocessing.RobustScaler.html#sklearn.preprocessing.RobustScaler))."
   ]
  },
  {
   "cell_type": "markdown",
   "id": "4269d416-8aa2-473c-9adb-1b37826d1983",
   "metadata": {},
   "source": [
    "# Part 3 - Learning \n",
    "\n",
    "__Objectives:__\n",
    "\n",
    "* How do machines learn?\n",
    "* How can machine learning help us to make predictions?\n",
    "* Why is it important to be able to quantify the error in our models?\n",
    "* What is an example of a loss function?\n",
    "* Understand the importance of quantifying error.\n",
    "* Code a linear regression model that takes inputs, weights, and bias.\n",
    "* Code a loss function that quantifies model error."
   ]
  },
  {
   "cell_type": "markdown",
   "id": "1cebf66a-35c0-4b22-aa69-a6041f4d21a5",
   "metadata": {},
   "source": [
    "## How do machines learn?\n",
    "\n",
    "How do machines learn? Typically we are given examples and we learn rules through trial and error. Machines aren't that different! In the context of machine learning, we talk about how a model \"fits\" to the data.\n",
    "\n",
    "Our model has a number of tweakable parameters. We need to find the optimal values for those parameters such that our model outputs the \"best\" predictions for a set of input variables. \n",
    "\n",
    "![](https://carpentries-incubator.github.io/machine-learning-novice-python/fig/ml_model.png)"
   ]
  },
  {
   "cell_type": "markdown",
   "id": "86f6b41c-f7c5-4c7f-b1fa-2cdb35a4f683",
   "metadata": {},
   "source": [
    "## Loss functions\n",
    "\n",
    "Finding the best model means defining \"best\". We need to have some way of quantifying the difference between a \"good\" model (capable of making useful predictions) vs a \"bad\" model (not capable of making useful predictions).\n",
    "\n",
    "Loss functions are crucial for doing this. They allow us to quantify how closely our predictions fit to the known target values. You will hear \"objective function\", \"error function\", and \"cost function\" used in a similar way.\n",
    "\n",
    "Mean squared error is a common example of a loss function, often used for linear regression. For each prediction, we measure the distance between the known target value ($y$) and our prediction ($y_{hat}$), and then we take the square."
   ]
  },
  {
   "cell_type": "code",
   "execution_count": 30,
   "id": "3010c4fb-5a89-4e8f-9bff-e1fda964ef7d",
   "metadata": {},
   "outputs": [
    {
     "data": {
      "text/plain": [
       "Text(0.5, 1.0, 'Prediction error')"
      ]
     },
     "execution_count": 30,
     "metadata": {},
     "output_type": "execute_result"
    },
    {
     "data": {
      "image/png": "[encoded data removed]",
      "text/plain": [
       "<Figure size 640x480 with 1 Axes>"
      ]
     },
     "metadata": {},
     "output_type": "display_data"
    }
   ],
   "source": [
    "import pandas as pd\n",
    "\n",
    "# create sample labelled data\n",
    "data = {\n",
    "    'x': [1,2,3,4,5],\n",
    "    'y': [-0.5,1,2,4,7]\n",
    "}\n",
    "df = pd.DataFrame(data)\n",
    "\n",
    "# add predictions\n",
    "df['y_hat'] = [0,2,4,6,8]\n",
    "\n",
    "# plot the data\n",
    "ax = df.plot(x='x', y='y', kind='scatter', xlim=[0,6], ylim=[-1,9])\n",
    "\n",
    "# plot the predictions\n",
    "ax.plot(df['x'], df['y_hat'], color='blue')\n",
    "\n",
    "# plot error\n",
    "ax.vlines(x=df['x'], ymin=df['y'], ymax=df['y_hat'], color='red', linestyle='dashed')\n",
    "ax.text(x=3.1, y=3, s='Error')\n",
    "ax.set_title('Prediction error')"
   ]
  },
  {
   "cell_type": "markdown",
   "id": "9bd5e1a6-cd7a-46a6-9bec-16226d43d25f",
   "metadata": {},
   "source": [
    "The further away from the data points our line gets, the bigger the error. Our best model is the one with the smallest error. Mathematically, we can define the mean squared error as:\n",
    "\n",
    "$$\n",
    "  mse = \\frac{1}{n}\\sum_{i=1}^{n} (y_i - \\hat{y_i})^2\n",
    "$$\n",
    "\n",
    "* $mse$ is the Mean Squared Error.\n",
    "* $y_i$ is the actual value.\n",
    "* $\\hat{y_i}$ is the predicted value.\n",
    "* $\\sum$ means we are taking the sum of the difference.\n",
    "* $n$ is the number of observations, so $\\frac{1}{n}$ means we are taking the mean.\n",
    "\n",
    "We could implement this in our codes as follows:"
   ]
  },
  {
   "cell_type": "code",
   "execution_count": 31,
   "id": "46005578-bf15-487d-af10-ae7ee62c95e0",
   "metadata": {},
   "outputs": [],
   "source": [
    "import numpy as np \n",
    "\n",
    "def loss(y, y_hat):\n",
    "    distances = y - y_hat\n",
    "    squared_distances = np.square(distances)\n",
    "    return np.mean(squared_distances)"
   ]
  },
  {
   "cell_type": "markdown",
   "id": "ca0cbc87-1553-44b0-a21f-998ee2e277b9",
   "metadata": {},
   "source": [
    "## Minimising the error\n",
    "\n",
    "Our goal is to find the \"best\" model. We have defined best as being the model with parameters that give us the smallest mean squared error. We can write this as:\n",
    "\n",
    "$$\n",
    "  argmin\\frac{1}{n}\\sum{i=1}^{n}(y_i - \\hat{y_i})^2\n",
    "$$\n",
    "\n",
    "Let's stop and look at what this loss function means. We'll plot the squared error for a range of values to demonstrate how loss scales as the difference between $y$ and $\\hat{y}$ increases."
   ]
  },
  {
   "cell_type": "code",
   "execution_count": 35,
   "id": "c32e3961-76d1-4c7d-9345-e8b01d581f3e",
   "metadata": {},
   "outputs": [
    {
     "data": {
      "text/plain": [
       "Text(0, 0.5, 'Loss (squared error)')"
      ]
     },
     "execution_count": 35,
     "metadata": {},
     "output_type": "execute_result"
    },
    {
     "data": {
      "image/png": "[encoded data removed]",
      "text/plain": [
       "<Figure size 640x480 with 1 Axes>"
      ]
     },
     "metadata": {},
     "output_type": "display_data"
    }
   ],
   "source": [
    "import matplotlib.pyplot as plt\n",
    "\n",
    "x = np.arange(-50, 50, 0.05)\n",
    "y = np.square(x)\n",
    "\n",
    "plt.plot(x, y)\n",
    "plt.xlabel('Difference between y and y_hat')\n",
    "plt.ylabel('Loss (squared error)')"
   ]
  },
  {
   "cell_type": "markdown",
   "id": "91be10e7-f310-49f6-a271-fc9511b19f33",
   "metadata": {},
   "source": [
    "As we can see, our loss rapidly increases as predictions ($\\hat{y}$) move away from the true values ($y$). The result is that outliers have a strong influence on our model fit. "
   ]
  },
  {
   "cell_type": "markdown",
   "id": "5d372987-6359-41fb-98a6-641ed685a773",
   "metadata": {},
   "source": [
    "## Optimisation\n",
    "\n",
    "In machine learning, there is typically a training step where an algorithm is used to find the optimal set of model parameters (i.e. those parameters that give the minimum possible error). This is the essence of machine learning.\n",
    "\n",
    "![](https://carpentries-incubator.github.io/machine-learning-novice-python/fig/ml_model_loss.png)\n",
    "\n",
    "There are many approaches to optimisation. [Gradient descent](https://en.wikipedia.org/wiki/Gradient_descent) is a popular approach.\n",
    "\n",
    "__Exercise:__\n",
    "\n",
    "* What does a loss function quantify?\n",
    "* What is an example of a loss function?\n",
    "* What is happening when a model is trained?\n",
    "\n",
    "Now that we've touched on how machines learn, we'll tackle the problem of predicting the outcome of patients admitted to intensive care units in hospitals across the United States. "
   ]
  },
  {
   "cell_type": "markdown",
   "id": "0420ec3f-3991-40f7-8a2a-8ea138eb5fa8",
   "metadata": {},
   "source": [
    "# Key points from today\n",
    "\n",
    "__Introduction:__\n",
    "\n",
    "* Machine learning borrows heavily from fields such as statistics and computer science.\n",
    "* In machine learning, models learn rules from data.\n",
    "* In supervised learning, the target in our training data is labelled.\n",
    "\n",
    "__Data preparation:__\n",
    "\n",
    "* Data pre-processing is arguably the most important task in machine learning.\n",
    "* Data is typically partitioned into training and test sets.\n",
    "* Setting random states helps to promote reproducibility. \n",
    "\n",
    "__Learning:__\n",
    "\n",
    "* Loss functions allow us to define a good model.\n",
    "* $y$ is a known target. $\\hat{y}(y_{hat})$ is a prediction.\n",
    "* Mean squared error is an example of a loss function.\n",
    "* After defining a loss function, we search for the optimal solution in a process known as \"training\".\n",
    "* Optimisation is at the heart of machine learning. "
   ]
  },
  {
   "cell_type": "markdown",
   "id": "aaf94942-ee9e-433a-acf1-38189c9d8dff",
   "metadata": {},
   "source": [
    "# References\n",
    "\n",
    "* Carpentries Incubator - [Introduction to Machine Learning in Python](https://carpentries-incubator.github.io/machine-learning-novice-python/)\n",
    "* Wikipedia - [Machine learning](https://en.wikipedia.org/wiki/Machine_learning)"
   ]
  }
 ],
 "metadata": {
  "kernelspec": {
   "display_name": "Python 3 (ipykernel)",
   "language": "python",
   "name": "python3"
  },
  "language_info": {
   "codemirror_mode": {
    "name": "ipython",
    "version": 3
   },
   "file_extension": ".py",
   "mimetype": "text/x-python",
   "name": "python",
   "nbconvert_exporter": "python",
   "pygments_lexer": "ipython3",
   "version": "3.12.4"
  }
 },
 "nbformat": 4,
 "nbformat_minor": 5
}
