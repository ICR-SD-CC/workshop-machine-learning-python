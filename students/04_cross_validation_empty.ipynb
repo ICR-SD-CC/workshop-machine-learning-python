{
 "cells": [
  {
   "cell_type": "markdown",
   "id": "bb40cf76-9525-4de1-8c43-a19dc49a4f7f",
   "metadata": {},
   "source": [
    "### Import libraries"
   ]
  },
  {
   "cell_type": "code",
   "execution_count": null,
   "id": "3a3bcd9d-f050-4f1e-83ae-87ccc45c46f0",
   "metadata": {},
   "outputs": [],
   "source": []
  },
  {
   "cell_type": "markdown",
   "id": "dc02a3be-352d-44a2-8350-670833c53611",
   "metadata": {},
   "source": [
    "### Import and clean Melbourne housing dataset"
   ]
  },
  {
   "cell_type": "code",
   "execution_count": null,
   "id": "edf7c3e2-29cc-4eb6-8e1a-44fa6eea28d3",
   "metadata": {},
   "outputs": [],
   "source": []
  },
  {
   "cell_type": "markdown",
   "id": "fb5b5514-94b5-472b-8c98-fef9d7e3a29a",
   "metadata": {},
   "source": [
    "### Calculate RMSE and R-squared values for all regression models we have fitted for the Melbourne housing dataset"
   ]
  },
  {
   "cell_type": "code",
   "execution_count": null,
   "id": "a12ac0c2-7b1a-4415-b447-6420397b2575",
   "metadata": {},
   "outputs": [],
   "source": []
  },
  {
   "cell_type": "markdown",
   "id": "390efb3a-87a6-475f-a4c4-93c891337a55",
   "metadata": {},
   "source": [
    "### Create a dataframe that contains 3 columns which are 'Model', 'RMSE', and 'R-squared'"
   ]
  },
  {
   "cell_type": "code",
   "execution_count": null,
   "id": "976979c7-509d-44ab-a6f8-4238b691b741",
   "metadata": {},
   "outputs": [],
   "source": []
  },
  {
   "cell_type": "markdown",
   "id": "0c3abfd3-d4c2-4227-b1f6-acf336a8e5cb",
   "metadata": {},
   "source": [
    "### K-fold cross-validation on Melbourne housing dataset with linear regression"
   ]
  },
  {
   "cell_type": "code",
   "execution_count": null,
   "id": "cedfdbb6-47ae-4778-bbf8-f53cc0d5d64d",
   "metadata": {},
   "outputs": [],
   "source": []
  },
  {
   "cell_type": "markdown",
   "id": "6b1041ef-b469-4306-91f8-b34ada5c7d0c",
   "metadata": {},
   "source": [
    "### Import and clean the eICU dataset"
   ]
  },
  {
   "cell_type": "code",
   "execution_count": null,
   "id": "330aa89d-ac78-46ca-b84b-79043ad61793",
   "metadata": {},
   "outputs": [],
   "source": []
  },
  {
   "cell_type": "markdown",
   "id": "8a1dc609-7a69-4d8f-9834-8f57b41d950d",
   "metadata": {},
   "source": [
    "### Stratified k-fold cross-validation on eICU dataset"
   ]
  },
  {
   "cell_type": "code",
   "execution_count": null,
   "id": "b802b7fc-79ab-4874-8711-d1513a02e397",
   "metadata": {},
   "outputs": [],
   "source": []
  },
  {
   "cell_type": "markdown",
   "id": "1610eae3-3c13-4115-97a0-a629aec98c22",
   "metadata": {},
   "source": [
    "### Grid search with Ridge regression on Melbourne housing dataset"
   ]
  },
  {
   "cell_type": "code",
   "execution_count": null,
   "id": "f1246cf2-ded2-4a45-8e60-35b834dc0b09",
   "metadata": {},
   "outputs": [],
   "source": []
  },
  {
   "cell_type": "code",
   "execution_count": null,
   "id": "344a5b5d-dac7-44d3-b13f-f329112ccf3c",
   "metadata": {},
   "outputs": [],
   "source": []
  },
  {
   "cell_type": "markdown",
   "id": "8ae42b42-15d3-4848-8dfb-ee1906271f5d",
   "metadata": {},
   "source": [
    "### Grid search with Gradient Boosting Regressor on Melbourne housing dataset"
   ]
  },
  {
   "cell_type": "code",
   "execution_count": null,
   "id": "cd51c6f0-6653-4486-9116-e711fe20a210",
   "metadata": {},
   "outputs": [],
   "source": []
  },
  {
   "cell_type": "markdown",
   "id": "02792d97-25e2-4cd7-99a3-c8fe92d15ea0",
   "metadata": {},
   "source": [
    "### `df.describe()` to get a summary of our numerical features"
   ]
  },
  {
   "cell_type": "code",
   "execution_count": null,
   "id": "6123db94-4ccf-450c-b7ce-ef04941c6870",
   "metadata": {},
   "outputs": [],
   "source": []
  },
  {
   "cell_type": "markdown",
   "id": "288e1716-9600-4a41-8212-3125fefd09e8",
   "metadata": {},
   "source": [
    "### Check data types and missing values"
   ]
  },
  {
   "cell_type": "code",
   "execution_count": null,
   "id": "e437cba8-5e1f-4d92-838b-912a85765e78",
   "metadata": {},
   "outputs": [],
   "source": []
  },
  {
   "cell_type": "markdown",
   "id": "0c14871f-b227-4e74-9d8f-a2320b2095c5",
   "metadata": {},
   "source": [
    "### Data preprocessing - Histograms"
   ]
  },
  {
   "cell_type": "code",
   "execution_count": null,
   "id": "9e65300f-dea7-4d45-b1f3-f7ee154359c9",
   "metadata": {},
   "outputs": [],
   "source": []
  },
  {
   "cell_type": "markdown",
   "id": "43dc2043-fe59-434e-8729-91b71f6e3f5f",
   "metadata": {},
   "source": [
    "### Data preprocessing - Bar plot"
   ]
  },
  {
   "cell_type": "code",
   "execution_count": null,
   "id": "dd2f67f3-6b21-4c27-afd1-c63f1bbe41db",
   "metadata": {},
   "outputs": [],
   "source": []
  },
  {
   "cell_type": "markdown",
   "id": "ea63be7b-7613-472c-8224-4172f0fb5428",
   "metadata": {},
   "source": [
    "### Data preprocessing - Pair plot"
   ]
  },
  {
   "cell_type": "code",
   "execution_count": null,
   "id": "e034f77d-acc3-44cd-9af8-41491b2d7add",
   "metadata": {},
   "outputs": [],
   "source": []
  },
  {
   "cell_type": "markdown",
   "id": "2f988e20-3b88-4a58-9b76-0aacc1bcd0c3",
   "metadata": {},
   "source": [
    "### Data preprocessing - Correlation analysis"
   ]
  },
  {
   "cell_type": "code",
   "execution_count": null,
   "id": "5d91a0b6-4118-4060-848c-a636a48f3092",
   "metadata": {},
   "outputs": [],
   "source": []
  },
  {
   "cell_type": "markdown",
   "id": "a505187d-1999-4217-b4c9-e27647a7a643",
   "metadata": {},
   "source": [
    "### Data preprocessing - Time series data"
   ]
  },
  {
   "cell_type": "code",
   "execution_count": null,
   "id": "c7727c5e-ce7f-4ea9-ad05-8149af9f2d16",
   "metadata": {},
   "outputs": [],
   "source": []
  },
  {
   "cell_type": "markdown",
   "id": "500e3233-38ff-4896-89b0-8ab03a6112c3",
   "metadata": {},
   "source": [
    "### Get the rows where 'Rooms' > 8"
   ]
  },
  {
   "cell_type": "code",
   "execution_count": null,
   "id": "3785df6d-8cca-4277-a076-793b57eaaa5e",
   "metadata": {},
   "outputs": [],
   "source": []
  },
  {
   "cell_type": "markdown",
   "id": "519fdff2-68e2-4411-a3aa-685f5d8341d4",
   "metadata": {},
   "source": [
    "### Get the rows where 'Price' > 7000000"
   ]
  },
  {
   "cell_type": "code",
   "execution_count": null,
   "id": "6718ed65-f08a-4650-bb1b-a236bfa07839",
   "metadata": {},
   "outputs": [],
   "source": []
  },
  {
   "cell_type": "markdown",
   "id": "59e23908-981f-4df5-b6b5-6f36143311e6",
   "metadata": {},
   "source": [
    "### Get the rows where 'Bedroom2' is greater than 10"
   ]
  },
  {
   "cell_type": "code",
   "execution_count": null,
   "id": "aabfa43e-9bf0-45f1-8b0f-8d88a6898e35",
   "metadata": {},
   "outputs": [],
   "source": []
  },
  {
   "cell_type": "markdown",
   "id": "83f7e776-1529-4d13-be92-b770426980a2",
   "metadata": {},
   "source": [
    "### Get the rows where 'Bathroom' is greater than 6"
   ]
  },
  {
   "cell_type": "code",
   "execution_count": null,
   "id": "93bcf204-a9ba-4847-9d5a-baa9df52d4b1",
   "metadata": {},
   "outputs": [],
   "source": []
  },
  {
   "cell_type": "markdown",
   "id": "90e11111-fae2-41ae-b43e-94a31a31f874",
   "metadata": {},
   "source": [
    "### Get the rows where 'Car' is greater than 8"
   ]
  },
  {
   "cell_type": "code",
   "execution_count": null,
   "id": "7c99b808-2d02-43a9-b7de-d85f94d7c79a",
   "metadata": {},
   "outputs": [],
   "source": []
  },
  {
   "cell_type": "markdown",
   "id": "eddbbc71-7578-4cf2-87f5-108e38de77aa",
   "metadata": {},
   "source": [
    "### Get the rows where 'Landsize' > 100000"
   ]
  },
  {
   "cell_type": "code",
   "execution_count": null,
   "id": "bf070517-c570-4892-9ee3-2988273ab9ac",
   "metadata": {},
   "outputs": [],
   "source": []
  },
  {
   "cell_type": "markdown",
   "id": "13a1082f-ebe7-4a2c-aa72-f743bc8ef372",
   "metadata": {},
   "source": [
    "### Get the rows where 'BuildingArea' > 10000"
   ]
  },
  {
   "cell_type": "code",
   "execution_count": null,
   "id": "26bc2a26-5cfa-4659-85aa-1caf153f1513",
   "metadata": {},
   "outputs": [],
   "source": []
  },
  {
   "cell_type": "markdown",
   "id": "267c493d-2316-4811-a93c-1b5d27a11613",
   "metadata": {},
   "source": [
    "### Get the rows where 'YearBuilt' < 1800"
   ]
  },
  {
   "cell_type": "code",
   "execution_count": null,
   "id": "093087af-58fe-4383-b547-e2f45cba8112",
   "metadata": {},
   "outputs": [],
   "source": []
  },
  {
   "cell_type": "markdown",
   "id": "b2d01433-fc8e-4acf-bce9-9ed2c4759219",
   "metadata": {},
   "source": [
    "### Scatter plot with fitted line for numeric features"
   ]
  },
  {
   "cell_type": "code",
   "execution_count": null,
   "id": "a3ebba30-22b2-486f-ba03-18ba17378661",
   "metadata": {
    "scrolled": true
   },
   "outputs": [],
   "source": []
  },
  {
   "cell_type": "markdown",
   "id": "9f88f7df-a339-4ae1-9955-8d10876571f3",
   "metadata": {},
   "source": [
    "### Box plot visualisation for categorical data"
   ]
  },
  {
   "cell_type": "code",
   "execution_count": null,
   "id": "2854b5ab-dc92-4ae7-8360-a002e06ea393",
   "metadata": {},
   "outputs": [],
   "source": []
  },
  {
   "cell_type": "code",
   "execution_count": null,
   "id": "86ae79c7-17ca-4bf6-a513-a5aacfded0b3",
   "metadata": {},
   "outputs": [],
   "source": []
  }
 ],
 "metadata": {
  "kernelspec": {
   "display_name": "Python 3 (ipykernel)",
   "language": "python",
   "name": "python3"
  },
  "language_info": {
   "codemirror_mode": {
    "name": "ipython",
    "version": 3
   },
   "file_extension": ".py",
   "mimetype": "text/x-python",
   "name": "python",
   "nbconvert_exporter": "python",
   "pygments_lexer": "ipython3",
   "version": "3.12.4"
  }
 },
 "nbformat": 4,
 "nbformat_minor": 5
}
