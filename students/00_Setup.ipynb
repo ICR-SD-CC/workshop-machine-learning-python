{
 "cells": [
  {
   "cell_type": "markdown",
   "id": "757f09a9-5a63-425b-81dc-9ecee3d74aea",
   "metadata": {},
   "source": [
    "# Overview \n",
    "\n",
    "This lesson is designed to be run on a personal computer. All of the software used in this lesson are freely available online, and instructions on how to obtain them are provided below. "
   ]
  },
  {
   "cell_type": "markdown",
   "id": "0166e68a-4dfd-4969-9001-b8adae946525",
   "metadata": {},
   "source": [
    "# Install Python\n",
    "\n",
    "In this lesson, we will be using Python 3 with some of its most popular libraries. Although one can install a plain-vanilla Python and all required libraries by hand, we recommend installing [Anaconda](https://www.anaconda.com/), a Python distribution that comes with everything we need for the lesson."
   ]
  },
  {
   "cell_type": "markdown",
   "id": "76fdd81b-fb36-4b2e-9ee8-1b2487a59047",
   "metadata": {},
   "source": [
    "# Obtain lesson materials \n",
    "\n",
    "1. Download [eicu_cohort.csv](https://carpentries-incubator.github.io/machine-learning-novice-python/data/eicu_cohort.csv).\n",
    "2. Create a folder called `intro-machine-learning` on your Desktop (or wherever you feel like to).\n",
    "3. Move downloaded files to `intro-machine-learning`."
   ]
  },
  {
   "cell_type": "markdown",
   "id": "b1eaca14-32c0-495c-a8be-8b436e9f27f8",
   "metadata": {},
   "source": [
    "# Launch Python interface\n",
    "\n",
    "To start working with Python, we need to launch a program that will interpret and execute our Python commands. In this lession, we are going to use Jupyter Notebook from the Anaconda Navigator. A Jupyter Notebook provides a browser-based interface for working with Python. To launch a Jupyter Notebook, you can:\n",
    "\n",
    "1. Launch Anaconda Navigator.\n",
    "2. Find the \"Notebook\" tab and click on the \"Launch\" button: ![](figs/00_launch_notebook.png)\n",
    "3. Navigate to the `intro-machine-learning` directory by clicking on the folder names.\n",
    "4. Launch the notebook by clicking on the \"New\" button and then selecting \"Python 3\": ![](figs/01_new_python3.png)"
   ]
  },
  {
   "cell_type": "markdown",
   "id": "a643ce71-e2da-4c51-83e7-93ab7a9cb60f",
   "metadata": {},
   "source": [
    "# References\n",
    "\n",
    "* Carpentries Incubator - [Introduction to Machine Learning in Python: Setup](https://carpentries-incubator.github.io/machine-learning-novice-python/setup.html)"
   ]
  }
 ],
 "metadata": {
  "kernelspec": {
   "display_name": "Python 3 (ipykernel)",
   "language": "python",
   "name": "python3"
  },
  "language_info": {
   "codemirror_mode": {
    "name": "ipython",
    "version": 3
   },
   "file_extension": ".py",
   "mimetype": "text/x-python",
   "name": "python",
   "nbconvert_exporter": "python",
   "pygments_lexer": "ipython3",
   "version": "3.12.4"
  }
 },
 "nbformat": 4,
 "nbformat_minor": 5
}
