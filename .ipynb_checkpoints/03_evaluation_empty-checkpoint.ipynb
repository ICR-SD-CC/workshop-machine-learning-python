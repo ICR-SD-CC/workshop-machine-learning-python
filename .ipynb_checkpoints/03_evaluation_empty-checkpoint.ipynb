{
 "cells": [
  {
   "cell_type": "markdown",
   "id": "3de27cf6-c542-4922-9b9e-4b3f622e9d3a",
   "metadata": {},
   "source": [
    "### Import eICU dataset and encode categorical values"
   ]
  },
  {
   "cell_type": "code",
   "execution_count": null,
   "id": "096709f9-4093-4fd3-a963-9e28ce2680b6",
   "metadata": {},
   "outputs": [],
   "source": []
  },
  {
   "cell_type": "markdown",
   "id": "51e8eaa2-93f3-4df1-84c2-1d9cbd65c093",
   "metadata": {},
   "source": [
    "### Recap - Fit ICU data to logistic regression using all features"
   ]
  },
  {
   "cell_type": "code",
   "execution_count": null,
   "id": "b8475b4a-65c3-45df-b62b-e40db44a4836",
   "metadata": {},
   "outputs": [],
   "source": []
  },
  {
   "cell_type": "markdown",
   "id": "2ed1a402-6d98-4359-a226-cd99533222b4",
   "metadata": {},
   "source": [
    "### Fit our data into logistic regression with all 13 features, with max iteration set to 1000"
   ]
  },
  {
   "cell_type": "code",
   "execution_count": null,
   "id": "970948b6-4b17-4d0d-8c9d-e57936748be2",
   "metadata": {},
   "outputs": [],
   "source": []
  },
  {
   "cell_type": "markdown",
   "id": "ff753dd1-d0f5-4845-8324-a2aa103e9577",
   "metadata": {},
   "source": [
    "### Compare two models by creating confusion matrices"
   ]
  },
  {
   "cell_type": "code",
   "execution_count": null,
   "id": "2c31b52b-4294-4ae8-80b6-3e0ddfe58559",
   "metadata": {},
   "outputs": [],
   "source": []
  },
  {
   "cell_type": "markdown",
   "id": "b065fc01-b4ef-4a49-9e5f-6f1b2a495ef8",
   "metadata": {},
   "source": [
    "### Read in Melbourne Housing Snapshot and have a glimpse"
   ]
  },
  {
   "cell_type": "code",
   "execution_count": null,
   "id": "0e8374ae-bcf6-49f5-ae83-051034bf1cb3",
   "metadata": {},
   "outputs": [],
   "source": []
  },
  {
   "cell_type": "markdown",
   "id": "1fb9a82d-5fab-4496-92b5-2a0e562e443f",
   "metadata": {},
   "source": [
    "### Check missing values"
   ]
  },
  {
   "cell_type": "code",
   "execution_count": null,
   "id": "1d828b61-78c0-48a8-afdf-253721fbb46b",
   "metadata": {},
   "outputs": [],
   "source": []
  },
  {
   "cell_type": "markdown",
   "id": "5618eb88-0952-4f92-ab1e-cfe34d86d76c",
   "metadata": {},
   "source": [
    "### Check data types"
   ]
  },
  {
   "cell_type": "code",
   "execution_count": null,
   "id": "60a0a65a-2711-4f37-a511-d781bde0df83",
   "metadata": {},
   "outputs": [],
   "source": []
  },
  {
   "cell_type": "markdown",
   "id": "f50f9363-5fcb-443f-8fcd-53c3ba6f14a5",
   "metadata": {},
   "source": [
    "### Drop columns \"Address\", \"Distance\", \"Postcode\", \"CouncilArea\", \"Lattitude\", \"Longtitude\", \"Regionname\", and \"Propertycount\""
   ]
  },
  {
   "cell_type": "code",
   "execution_count": null,
   "id": "2b51bdaf-ef70-4804-bfc6-55cfe2998037",
   "metadata": {},
   "outputs": [],
   "source": []
  },
  {
   "cell_type": "markdown",
   "id": "5ed6877d-f56c-4a7e-9a4c-075658632664",
   "metadata": {},
   "source": [
    "### Encode columns \"Suburb\", \"Type\", \"Method\", \"SellerG\", and \"Date\""
   ]
  },
  {
   "cell_type": "code",
   "execution_count": null,
   "id": "98e07bc4-a331-4952-bb3c-a88ac1430849",
   "metadata": {},
   "outputs": [],
   "source": []
  },
  {
   "cell_type": "markdown",
   "id": "2758d8f2-8293-4bcf-b007-a23b763e7362",
   "metadata": {},
   "source": [
    "### Fit to linear regression"
   ]
  },
  {
   "cell_type": "code",
   "execution_count": null,
   "id": "dceb7074-8d76-4e3d-ac37-3600f81165cf",
   "metadata": {},
   "outputs": [],
   "source": []
  },
  {
   "cell_type": "markdown",
   "id": "ef8e4ea8-55c0-419c-b234-c65ffbf09caa",
   "metadata": {},
   "source": [
    "### Evaluate the model with Mean Absolute Error, Mean Squared Error, Root Mean Squared Error, R-squared, and Adjusted R-squared"
   ]
  },
  {
   "cell_type": "code",
   "execution_count": null,
   "id": "c04c59de-e22f-4ea5-b0de-784821e13c33",
   "metadata": {},
   "outputs": [],
   "source": []
  },
  {
   "cell_type": "markdown",
   "id": "a7b3bf58-354b-4a75-a787-71d5698bfc0e",
   "metadata": {},
   "source": [
    "### Calculate residuals"
   ]
  },
  {
   "cell_type": "code",
   "execution_count": null,
   "id": "d60181a5-c2d5-4908-b3e6-505d205f9bd8",
   "metadata": {},
   "outputs": [],
   "source": []
  },
  {
   "cell_type": "markdown",
   "id": "04d8db1a-d97a-4eab-8aff-984f6b3a4aca",
   "metadata": {},
   "source": [
    "### Create Residual vs. Fitted Plot"
   ]
  },
  {
   "cell_type": "code",
   "execution_count": null,
   "id": "0b72fad2-d07f-4d79-8f41-4126375d1ae2",
   "metadata": {},
   "outputs": [],
   "source": []
  },
  {
   "cell_type": "markdown",
   "id": "a846662c-8688-4582-a17b-9d075f70cf6e",
   "metadata": {},
   "source": [
    "### Create a Q-Q plot"
   ]
  },
  {
   "cell_type": "code",
   "execution_count": null,
   "id": "629973fc-b8ce-4d81-a211-fe078468c981",
   "metadata": {},
   "outputs": [],
   "source": []
  },
  {
   "cell_type": "markdown",
   "id": "9e9f1b08-5160-4069-a0f3-9c6b84480a97",
   "metadata": {},
   "source": [
    "### Create a histogram of residuals"
   ]
  },
  {
   "cell_type": "code",
   "execution_count": null,
   "id": "b939cf79-631f-43ed-8ced-62bdf670b635",
   "metadata": {},
   "outputs": [],
   "source": []
  },
  {
   "cell_type": "markdown",
   "id": "9823d9f4-af29-4a16-a8f7-ff26988a3f61",
   "metadata": {},
   "source": [
    "### Create a Residuals vs. Predictor plot"
   ]
  },
  {
   "cell_type": "code",
   "execution_count": null,
   "id": "eb56aa9c-6871-429b-8f32-dcdcba5c94bd",
   "metadata": {},
   "outputs": [],
   "source": []
  },
  {
   "cell_type": "markdown",
   "id": "271ac890-742f-483c-862b-98b2be174938",
   "metadata": {},
   "source": [
    "### Fit Melbourne Housing dataset to Ridge Regression"
   ]
  },
  {
   "cell_type": "code",
   "execution_count": null,
   "id": "116c224b-6274-47e4-8c70-67cce74b21cb",
   "metadata": {},
   "outputs": [],
   "source": []
  },
  {
   "cell_type": "markdown",
   "id": "12621075-25b9-4f0d-9087-1eec1008c92b",
   "metadata": {},
   "source": [
    "### Fit Melbourne Housing dataset to Lasso Regression"
   ]
  },
  {
   "cell_type": "code",
   "execution_count": null,
   "id": "3d771199-2b2d-4e50-87a4-83731fba04cb",
   "metadata": {},
   "outputs": [],
   "source": []
  },
  {
   "cell_type": "markdown",
   "id": "be4a4543-5096-4044-b622-336f58ab5916",
   "metadata": {},
   "source": [
    "### Fit Melbourne Housing dataset to Elastic Net"
   ]
  },
  {
   "cell_type": "code",
   "execution_count": null,
   "id": "36d05c9d-859d-4403-b465-261456e1d414",
   "metadata": {},
   "outputs": [],
   "source": []
  },
  {
   "cell_type": "markdown",
   "id": "4df88ceb-9679-469e-b859-5e64a1984cc9",
   "metadata": {},
   "source": [
    "### Fit Melbourne Housing dataset to Decision Tree Regression"
   ]
  },
  {
   "cell_type": "code",
   "execution_count": null,
   "id": "33b9b51e-5fdf-4a9d-b9c8-4d5b7e3ff5a4",
   "metadata": {},
   "outputs": [],
   "source": []
  },
  {
   "cell_type": "markdown",
   "id": "4776e31d-d832-4443-8eb2-50e6c8f1f5c6",
   "metadata": {},
   "source": [
    "### Fit Melbourne Housing dataset to Random Forest Regression"
   ]
  },
  {
   "cell_type": "code",
   "execution_count": null,
   "id": "f1537375-5bbb-4329-8899-172953008b6d",
   "metadata": {},
   "outputs": [],
   "source": []
  },
  {
   "cell_type": "markdown",
   "id": "299acff7-27fd-467f-b11f-a5a73e09b43e",
   "metadata": {},
   "source": [
    "### Fit Melbourne Housing dataset to Gradient Boosting Regression"
   ]
  },
  {
   "cell_type": "code",
   "execution_count": null,
   "id": "ca287bb6-691c-4e6e-a1fa-f7329d823ec4",
   "metadata": {},
   "outputs": [],
   "source": []
  },
  {
   "cell_type": "markdown",
   "id": "9fdf1e04-6909-49fd-83b1-d415a5c65fba",
   "metadata": {},
   "source": [
    "### Fit Melbourne Housing dataset to XGBoost Regression"
   ]
  },
  {
   "cell_type": "code",
   "execution_count": null,
   "id": "9523e06d-466a-48a9-9822-ce106aa2ef0e",
   "metadata": {},
   "outputs": [],
   "source": []
  },
  {
   "cell_type": "markdown",
   "id": "573b254e-4367-43ce-bc6e-52cee469ed78",
   "metadata": {},
   "source": [
    "### Fit Melbourne Housing dataset to Support Vector Regression"
   ]
  },
  {
   "cell_type": "code",
   "execution_count": null,
   "id": "a2ac4621-8bdc-4501-a59b-e3effef342bd",
   "metadata": {},
   "outputs": [],
   "source": []
  },
  {
   "cell_type": "markdown",
   "id": "050dc2d0-b8ee-4307-b309-a826c809593c",
   "metadata": {},
   "source": [
    "### Fit Melbourne Housing dataset to Neural Network"
   ]
  },
  {
   "cell_type": "code",
   "execution_count": null,
   "id": "5c7463f8-8cff-4931-a5b8-3540af7d7511",
   "metadata": {},
   "outputs": [],
   "source": []
  }
 ],
 "metadata": {
  "kernelspec": {
   "display_name": "Python 3 (ipykernel)",
   "language": "python",
   "name": "python3"
  },
  "language_info": {
   "codemirror_mode": {
    "name": "ipython",
    "version": 3
   },
   "file_extension": ".py",
   "mimetype": "text/x-python",
   "name": "python",
   "nbconvert_exporter": "python",
   "pygments_lexer": "ipython3",
   "version": "3.12.4"
  }
 },
 "nbformat": 4,
 "nbformat_minor": 5
}
