{
 "cells": [
  {
   "cell_type": "markdown",
   "id": "85f9b7f9-0c53-4d33-9ed7-cb5af755a89e",
   "metadata": {},
   "source": [
    "### Import data"
   ]
  },
  {
   "cell_type": "code",
   "execution_count": null,
   "id": "beb04aea-6b71-4803-bf5a-6d5befc69d67",
   "metadata": {},
   "outputs": [],
   "source": [
    "import pandas as pd\n",
    "\n",
    "cohort = pd.read_csv('./eicu_cohort.csv')"
   ]
  },
  {
   "cell_type": "markdown",
   "id": "02b93123-d561-456c-9b4e-be22c8797695",
   "metadata": {},
   "source": [
    "### Check missing data"
   ]
  },
  {
   "cell_type": "code",
   "execution_count": null,
   "id": "fc223316-2f85-44d1-9e3d-cc643a90f197",
   "metadata": {},
   "outputs": [],
   "source": [
    "cohort.isnull().sum()"
   ]
  },
  {
   "cell_type": "markdown",
   "id": "309b9ed7-892e-43d8-803a-6c90d89322ec",
   "metadata": {},
   "source": [
    "### Convert \"actualhospitalmortality\" to categorical data"
   ]
  },
  {
   "cell_type": "code",
   "execution_count": null,
   "id": "b8c946f5-bd0b-431a-aaaa-775c66e23b61",
   "metadata": {},
   "outputs": [],
   "source": [
    "cohort['actualhospitalmortality'] = pd.Categorical(cohort['actualhospitalmortality'])"
   ]
  },
  {
   "cell_type": "markdown",
   "id": "003bc969-c6be-4acf-af73-ba70306ff212",
   "metadata": {},
   "source": [
    "### Encode \"actualhospitalmortality\""
   ]
  },
  {
   "cell_type": "code",
   "execution_count": null,
   "id": "24357c48-f915-4434-8b15-5b69f34f03f5",
   "metadata": {},
   "outputs": [],
   "source": [
    "cohort['actualhospitalmortality_enc'] = cohort['actualhospitalmortality'].cat.codes"
   ]
  },
  {
   "cell_type": "markdown",
   "id": "8e7f1822-ef4c-46e4-81ea-2d48c2be0c76",
   "metadata": {},
   "source": [
    "### Encode \"gender\""
   ]
  },
  {
   "cell_type": "code",
   "execution_count": null,
   "id": "d7eabbdd-1b09-4422-b1ea-2c4e10487aa7",
   "metadata": {},
   "outputs": [],
   "source": [
    "cohort['gender'] = pd.Categorical(cohort['gender'])\n",
    "cohort['gender_enc'] = cohort['gender'].cat.codes"
   ]
  },
  {
   "cell_type": "markdown",
   "id": "93ef43ff-5ce2-441d-a783-29749e7ec1b1",
   "metadata": {},
   "source": [
    "### Drop the original \"actualhospitalmortality\" and \"gender\""
   ]
  },
  {
   "cell_type": "code",
   "execution_count": null,
   "id": "351c51ef-9c22-46e7-a90a-c6afaf92a759",
   "metadata": {},
   "outputs": [],
   "source": [
    "cohort_enc = cohort.drop(['actualhospitalmortality', 'gender'], axis=1)"
   ]
  },
  {
   "cell_type": "markdown",
   "id": "be8c11b1-a72b-49e6-9514-e12f740dde8c",
   "metadata": {},
   "source": [
    "### Partition data"
   ]
  },
  {
   "cell_type": "code",
   "execution_count": null,
   "id": "5f2ca4ae-0ff4-444a-8dfc-a08c2e7c0fad",
   "metadata": {},
   "outputs": [],
   "source": [
    "from sklearn.model_selection import train_test_split\n",
    "\n",
    "x = cohort_enc.drop(['actualhospitalmortality_enc'], axis=1)\n",
    "y = cohort['actualhospitalmortality_enc']\n",
    "\n",
    "x_train, x_test, y_train, y_test = train_test_split(x, y, train_size=0.7, random_state=42)"
   ]
  },
  {
   "cell_type": "markdown",
   "id": "8c5ba61b-a8d1-4b79-b7a8-7f31eab3f4cd",
   "metadata": {},
   "source": [
    "### Impute missing data"
   ]
  },
  {
   "cell_type": "code",
   "execution_count": null,
   "id": "e514de72-7c7a-4c83-b551-f3f69b8b87d1",
   "metadata": {},
   "outputs": [],
   "source": [
    "x_train = x_train.fillna(x_train.median())\n",
    "x_test = x_test.fillna(x_train.median())"
   ]
  },
  {
   "cell_type": "markdown",
   "id": "3ceba7b5-33cb-446b-89fb-d983ae699356",
   "metadata": {},
   "source": [
    "### Normalisation using MinMaxScaler"
   ]
  },
  {
   "cell_type": "code",
   "execution_count": null,
   "id": "5ef279db-da5a-4d9b-8917-66f59665c940",
   "metadata": {},
   "outputs": [],
   "source": [
    "from sklearn.preprocessing import MinMaxScaler\n",
    "\n",
    "scaler = MinMaxScaler()\n",
    "\n",
    "scaler.fit(x_train)\n",
    "\n",
    "x_train = scaler.transform(x_train)\n",
    "x_test = scaler.transform(x_test)"
   ]
  },
  {
   "cell_type": "markdown",
   "id": "ac884f99-5623-4469-914b-69b924b9ef6f",
   "metadata": {},
   "source": [
    "### Linear regression with gradient descent - code implementation\n",
    "\n",
    "Try changing the learning rate to a larger value. "
   ]
  },
  {
   "cell_type": "code",
   "execution_count": null,
   "id": "2945880e-a478-4dfa-b107-a97596a8fa56",
   "metadata": {},
   "outputs": [],
   "source": [
    "import numpy as np\n",
    "\n",
    "# Example dataset\n",
    "X = np.array([1, 2, 3, 4, 5])\n",
    "y = np.array([2, 3, 5, 7, 11])\n",
    "\n",
    "# Initialize parameters\n",
    "m = 0\n",
    "c = 0\n",
    "alpha = 0.01\n",
    "iterations = 1000\n",
    "n = len(y)\n",
    "\n",
    "# Gradient Descent\n",
    "for _ in range(iterations):\n",
    "    # Compute the predictions\n",
    "    y_pred = m * X + c\n",
    "    \n",
    "    # Compute the loss\n",
    "    loss = (1/n) * np.sum((y - y_pred)**2)\n",
    "    \n",
    "    # Compute the gradients\n",
    "    D_m = (-2/n) * np.sum((y - y_pred) * X)\n",
    "    D_c = (-2/n) * np.sum(y - y_pred)\n",
    "    \n",
    "    # Update the parameters\n",
    "    m = m - alpha * D_m\n",
    "    c = c - alpha * D_c\n",
    "    \n",
    "    # Print cost every 100 iterations for monitoring\n",
    "    if _ % 100 == 0:\n",
    "        print(f\"Iteration {_}, Loss: {loss}, m: {m}, c: {c}\")\n",
    "\n",
    "print(f\"Final parameters: m: {m}, c: {c}\")"
   ]
  },
  {
   "cell_type": "markdown",
   "id": "2d19b172-057a-4218-9e9f-a79d4c717d11",
   "metadata": {},
   "source": [
    "### Fit data into a Linear Regression model only using \"apachescore\" and \"actualhospitalmortality\""
   ]
  },
  {
   "cell_type": "code",
   "execution_count": null,
   "id": "990360b5-6d24-4423-b696-69864c7a1fdc",
   "metadata": {},
   "outputs": [],
   "source": [
    "from sklearn.model_selection import train_test_split\n",
    "from sklearn.preprocessing import MinMaxScaler\n",
    "from sklearn.linear_model import LinearRegression\n",
    "\n",
    "x_apache = cohort_enc['apachescore'].values.reshape(-1, 1)\n",
    "y = cohort['actualhospitalmortality_enc']\n",
    "\n",
    "x_apache_train, x_apache_test, y_train, y_test = train_test_split(x_apache, y, train_size=.7, random_state=42)\n",
    "\n",
    "scaler = MinMaxScaler()\n",
    "scaler.fit(x_apache_train)\n",
    "x_apache_train = scaler.transform(x_apache_train)\n",
    "x_apache_test = scaler.transform(x_apache_test)\n",
    "\n",
    "model = LinearRegression()\n",
    "model = model.fit(x_apache_train, y_train)\n",
    "y_pred = model.predict(x_apache_test)"
   ]
  },
  {
   "cell_type": "markdown",
   "id": "cf24227a-a130-4297-9f60-2e0715dcd1b5",
   "metadata": {},
   "source": [
    "### Plot the fitted linear regression line"
   ]
  },
  {
   "cell_type": "code",
   "execution_count": null,
   "id": "c70448bd-2fcd-49f8-aa0a-fa4dba96f588",
   "metadata": {},
   "outputs": [],
   "source": [
    "import matplotlib.pyplot as plt\n",
    "\n",
    "plt.scatter(x_apache_test, y_test, color='blue', label='Data points')\n",
    "plt.plot(x_apache_test, y_pred, color='red', label='Fitted line')\n",
    "\n",
    "plt.xlabel('X')\n",
    "plt.ylabel('y')\n",
    "plt.title('Linear Regression Fit')\n",
    "plt.legend()\n",
    "\n",
    "plt.show()"
   ]
  },
  {
   "cell_type": "markdown",
   "id": "23cde103-b418-4d37-860f-55738d20ff1e",
   "metadata": {},
   "source": [
    "### Apply logistic function to y_pred"
   ]
  },
  {
   "cell_type": "code",
   "execution_count": null,
   "id": "92b5f1fb-d4cc-410e-95ea-a41182118f96",
   "metadata": {},
   "outputs": [],
   "source": [
    "import numpy as mp \n",
    "\n",
    "y_pred_logistic = 1 / (1 + np.exp(-y_pred))"
   ]
  },
  {
   "cell_type": "markdown",
   "id": "2c7690d3-e10e-40bf-ac28-fa16080d4a02",
   "metadata": {},
   "source": [
    "### Plot y_pred_logistic against x_apache_test"
   ]
  },
  {
   "cell_type": "code",
   "execution_count": null,
   "id": "bb273a12-074a-4a6e-91cd-1721fb21c91c",
   "metadata": {},
   "outputs": [],
   "source": [
    "import matplotlib.pyplot as plt\n",
    "\n",
    "plt.scatter(x_apache_test, y_test, color='blue', label='Data points')\n",
    "plt.plot(x_apache_test, y_pred_logistic, color='red', label='Fitted line')\n",
    "\n",
    "plt.xlabel('X')\n",
    "plt.ylabel('y')\n",
    "plt.title('Logistic Regression Fit')\n",
    "plt.legend()\n",
    "\n",
    "plt.show()"
   ]
  },
  {
   "cell_type": "markdown",
   "id": "2cb34f17-ffb3-4dbd-bc15-a7ac457ab366",
   "metadata": {},
   "source": [
    "### Fit data into LogisticRegression()"
   ]
  },
  {
   "cell_type": "code",
   "execution_count": null,
   "id": "b940425e-5a62-4a99-b8fd-49e8a71531db",
   "metadata": {},
   "outputs": [],
   "source": [
    "from sklearn.model_selection import train_test_split\n",
    "from sklearn.preprocessing import MinMaxScaler\n",
    "from sklearn.linear_model import LogisticRegression\n",
    "\n",
    "x_apache = cohort_enc['apachescore'].values.reshape(-1, 1)\n",
    "y = cohort['actualhospitalmortality_enc']\n",
    "\n",
    "x_apache_train, x_apache_test, y_train, y_test = train_test_split(x_apache, y, train_size=.7, random_state=42)\n",
    "\n",
    "scaler = MinMaxScaler()\n",
    "scaler.fit(x_apache_train)\n",
    "x_apache_train = scaler.transform(x_apache_train)\n",
    "x_apache_test = scaler.transform(x_apache_test)\n",
    "\n",
    "model = LogisticRegression()\n",
    "model = model.fit(x_apache_train, y_train)\n",
    "y_pred_logistic2 = model.predict(x_apache_test)\n",
    "\n",
    "print(y_pred_logistic)"
   ]
  },
  {
   "cell_type": "markdown",
   "id": "26aa710c-6b18-4944-8ece-e7e5a0cbf140",
   "metadata": {},
   "source": [
    "### Plot the fitted logistic regression line"
   ]
  },
  {
   "cell_type": "code",
   "execution_count": null,
   "id": "3020ea59-4a67-42a0-aec1-79981ac22f5f",
   "metadata": {},
   "outputs": [],
   "source": [
    "import matplotlib.pyplot as plt\n",
    "\n",
    "plt.scatter(x_apache_test, y_test, color='blue', label='Data points')\n",
    "plt.plot(x_apache_test, y_pred_logistic2, color='red', label='Fitted line')\n",
    "\n",
    "plt.xlabel('X')\n",
    "plt.ylabel('y')\n",
    "plt.title('Linear Regression Fit')\n",
    "plt.legend()\n",
    "\n",
    "plt.show()"
   ]
  },
  {
   "cell_type": "markdown",
   "id": "b45698fc-044a-42cf-8e9d-050218ac0396",
   "metadata": {},
   "source": [
    "### Plot the logistic regression predictions in scatter plot"
   ]
  },
  {
   "cell_type": "code",
   "execution_count": null,
   "id": "e2d1ca08-765c-4c29-a6fc-45fa50fa73ab",
   "metadata": {},
   "outputs": [],
   "source": [
    "import matplotlib.pyplot as plt\n",
    "\n",
    "plt.scatter(x_apache_test, y_test, color='blue', label='Data points')\n",
    "plt.scatter(x_apache_test, y_pred_logistic2, color='red', label='Predicted points')\n",
    "\n",
    "plt.xlabel('X')\n",
    "plt.ylabel('y')\n",
    "plt.title('Linear Regression Fit')\n",
    "plt.legend()\n",
    "\n",
    "plt.show()"
   ]
  },
  {
   "cell_type": "markdown",
   "id": "f2ebc41a-ab15-4023-b071-8832b69813f1",
   "metadata": {},
   "source": [
    "### Create a confusion matrix for the logistic regression model"
   ]
  },
  {
   "cell_type": "code",
   "execution_count": null,
   "id": "67345fe9-85ec-48be-b52b-6f8fe513f3f8",
   "metadata": {},
   "outputs": [],
   "source": [
    "import numpy as np\n",
    "import matplotlib.pyplot as plt\n",
    "from sklearn.metrics import confusion_matrix, ConfusionMatrixDisplay\n",
    "\n",
    "cm = confusion_matrix(y_test, y_pred_logistic2, labels=[0, 1])\n",
    "disp = ConfusionMatrixDisplay(confusion_matrix=cm, display_labels=[\"ALIVED\", \"EXPIRED\"])\n",
    "\n",
    "disp.plot(cmap=plt.cm.Blues)\n",
    "plt.title(\"Confusion Matrix\")\n",
    "plt.show()"
   ]
  },
  {
   "cell_type": "markdown",
   "id": "ab284c26-7190-4663-9443-43745e2ef659",
   "metadata": {},
   "source": [
    "### Calculate accuracy, precision, recall, specificity, and F1 score"
   ]
  },
  {
   "cell_type": "code",
   "execution_count": null,
   "id": "7899ec71-1478-4810-8114-ec4436d996a0",
   "metadata": {},
   "outputs": [],
   "source": [
    "from sklearn.metrics import accuracy_score, precision_score, recall_score, f1_score\n",
    "\n",
    "accuracy = accuracy_score(y_test, y_pred_logistic2)\n",
    "precision = precision_score(y_test, y_pred_logistic2)\n",
    "recall = recall_score(y_test, y_pred_logistic2)\n",
    "f1 = f1_score(y_test, y_pred_logistic2)\n",
    "\n",
    "print(f'Accuracy: {accuracy:.4f}')\n",
    "print(f'Precision: {precision:.4f}')\n",
    "print(f'Recall: {recall:.4f}')\n",
    "print(f'F1 Score: {f1:.4f}')"
   ]
  },
  {
   "cell_type": "markdown",
   "id": "1c02b533-8ca6-47fa-96e8-449c674a8722",
   "metadata": {},
   "source": [
    "### Plot the ROC-AUC"
   ]
  },
  {
   "cell_type": "code",
   "execution_count": null,
   "id": "d621c0b9-9c65-4b7d-977a-58bd20d53d7e",
   "metadata": {},
   "outputs": [],
   "source": [
    "metrics.RocCurveDisplay.from_estimator(model, x_apache_test, y_test)"
   ]
  },
  {
   "cell_type": "markdown",
   "id": "538b2cdc-a7a4-4ca3-99bf-530ec1f66177",
   "metadata": {},
   "source": [
    "### Fit our data into linear regression with all 13 features"
   ]
  },
  {
   "cell_type": "code",
   "execution_count": null,
   "id": "5755ce01-c00f-4ada-8641-02b5efc980b3",
   "metadata": {},
   "outputs": [],
   "source": [
    "from sklearn.model_selection import train_test_split\n",
    "from sklearn.preprocessing import MinMaxScaler\n",
    "from sklearn.linear_model import LinearRegression\n",
    "\n",
    "x = cohort_enc.drop('actualhospitalmortality_enc', axis=1)\n",
    "y = cohort_enc['actualhospitalmortality_enc']\n",
    "\n",
    "x_train, x_test, y_train, y_test = train_test_split(x, y, train_size=.7, random_state=42)\n",
    "\n",
    "x_train = x_train.fillna(x_train.median())\n",
    "x_test = x_test.fillna(x_train.median())\n",
    "\n",
    "scaler = MinMaxScaler()\n",
    "scaler.fit(x_train)\n",
    "x_apache_train = scaler.transform(x_train)\n",
    "x_apache_test = scaler.transform(x_test)\n",
    "\n",
    "model = LinearRegression()\n",
    "model = model.fit(x_train, y_train)\n",
    "y_pred = model.predict(x_test)"
   ]
  },
  {
   "cell_type": "code",
   "execution_count": null,
   "id": "c6b7f856-79df-4a5c-a088-435b39f1a8c5",
   "metadata": {},
   "outputs": [],
   "source": []
  },
  {
   "cell_type": "code",
   "execution_count": null,
   "id": "34ea7cb5-6530-4f00-9d09-d7a26d72ec34",
   "metadata": {},
   "outputs": [],
   "source": []
  },
  {
   "cell_type": "code",
   "execution_count": null,
   "id": "ea6bdf69-2e09-4132-81a7-a7b51f9dfaa0",
   "metadata": {},
   "outputs": [],
   "source": []
  },
  {
   "cell_type": "code",
   "execution_count": null,
   "id": "d0e165ab-e261-4ef6-bde0-e754d5cb2d33",
   "metadata": {},
   "outputs": [],
   "source": []
  },
  {
   "cell_type": "code",
   "execution_count": null,
   "id": "a14a04e3-1f14-489c-85ca-853e5fa1e5a1",
   "metadata": {},
   "outputs": [],
   "source": []
  }
 ],
 "metadata": {
  "kernelspec": {
   "display_name": "Python 3 (ipykernel)",
   "language": "python",
   "name": "python3"
  },
  "language_info": {
   "codemirror_mode": {
    "name": "ipython",
    "version": 3
   },
   "file_extension": ".py",
   "mimetype": "text/x-python",
   "name": "python",
   "nbconvert_exporter": "python",
   "pygments_lexer": "ipython3",
   "version": "3.12.4"
  }
 },
 "nbformat": 4,
 "nbformat_minor": 5
}
